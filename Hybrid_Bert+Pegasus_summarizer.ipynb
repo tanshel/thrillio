{
  "cells": [
    {
      "cell_type": "markdown",
      "metadata": {
        "id": "vTu5PNi2yJHx"
      },
      "source": [
        "#BERT + PEGASUS"
      ]
    },
    {
      "cell_type": "code",
      "execution_count": null,
      "metadata": {
        "colab": {
          "base_uri": "https://localhost:8080/"
        },
        "id": "RzOBwyCt7l6i",
        "outputId": "919589ca-fcd1-4759-fca7-8c7791126617"
      },
      "outputs": [
        {
          "name": "stdout",
          "output_type": "stream",
          "text": [
            "Looking in indexes: https://pypi.org/simple, https://us-python.pkg.dev/colab-wheels/public/simple/\n",
            "Requirement already satisfied: bert-extractive-summarizer in /usr/local/lib/python3.7/dist-packages (0.10.1)\n",
            "Requirement already satisfied: transformers in /usr/local/lib/python3.7/dist-packages (from bert-extractive-summarizer) (4.24.0)\n",
            "Requirement already satisfied: scikit-learn in /usr/local/lib/python3.7/dist-packages (from bert-extractive-summarizer) (1.0.2)\n",
            "Requirement already satisfied: spacy in /usr/local/lib/python3.7/dist-packages (from bert-extractive-summarizer) (3.4.2)\n",
            "Requirement already satisfied: threadpoolctl>=2.0.0 in /usr/local/lib/python3.7/dist-packages (from scikit-learn->bert-extractive-summarizer) (3.1.0)\n",
            "Requirement already satisfied: scipy>=1.1.0 in /usr/local/lib/python3.7/dist-packages (from scikit-learn->bert-extractive-summarizer) (1.7.3)\n",
            "Requirement already satisfied: numpy>=1.14.6 in /usr/local/lib/python3.7/dist-packages (from scikit-learn->bert-extractive-summarizer) (1.21.6)\n",
            "Requirement already satisfied: joblib>=0.11 in /usr/local/lib/python3.7/dist-packages (from scikit-learn->bert-extractive-summarizer) (1.2.0)\n",
            "Requirement already satisfied: requests<3.0.0,>=2.13.0 in /usr/local/lib/python3.7/dist-packages (from spacy->bert-extractive-summarizer) (2.23.0)\n",
            "Requirement already satisfied: packaging>=20.0 in /usr/local/lib/python3.7/dist-packages (from spacy->bert-extractive-summarizer) (21.3)\n",
            "Requirement already satisfied: cymem<2.1.0,>=2.0.2 in /usr/local/lib/python3.7/dist-packages (from spacy->bert-extractive-summarizer) (2.0.7)\n",
            "Requirement already satisfied: setuptools in /usr/local/lib/python3.7/dist-packages (from spacy->bert-extractive-summarizer) (57.4.0)\n",
            "Requirement already satisfied: spacy-loggers<2.0.0,>=1.0.0 in /usr/local/lib/python3.7/dist-packages (from spacy->bert-extractive-summarizer) (1.0.3)\n",
            "Requirement already satisfied: preshed<3.1.0,>=3.0.2 in /usr/local/lib/python3.7/dist-packages (from spacy->bert-extractive-summarizer) (3.0.8)\n",
            "Requirement already satisfied: tqdm<5.0.0,>=4.38.0 in /usr/local/lib/python3.7/dist-packages (from spacy->bert-extractive-summarizer) (4.64.1)\n",
            "Requirement already satisfied: pydantic!=1.8,!=1.8.1,<1.11.0,>=1.7.4 in /usr/local/lib/python3.7/dist-packages (from spacy->bert-extractive-summarizer) (1.10.2)\n",
            "Requirement already satisfied: spacy-legacy<3.1.0,>=3.0.10 in /usr/local/lib/python3.7/dist-packages (from spacy->bert-extractive-summarizer) (3.0.10)\n",
            "Requirement already satisfied: typer<0.5.0,>=0.3.0 in /usr/local/lib/python3.7/dist-packages (from spacy->bert-extractive-summarizer) (0.4.2)\n",
            "Requirement already satisfied: srsly<3.0.0,>=2.4.3 in /usr/local/lib/python3.7/dist-packages (from spacy->bert-extractive-summarizer) (2.4.5)\n",
            "Requirement already satisfied: murmurhash<1.1.0,>=0.28.0 in /usr/local/lib/python3.7/dist-packages (from spacy->bert-extractive-summarizer) (1.0.9)\n",
            "Requirement already satisfied: wasabi<1.1.0,>=0.9.1 in /usr/local/lib/python3.7/dist-packages (from spacy->bert-extractive-summarizer) (0.10.1)\n",
            "Requirement already satisfied: jinja2 in /usr/local/lib/python3.7/dist-packages (from spacy->bert-extractive-summarizer) (2.11.3)\n",
            "Requirement already satisfied: langcodes<4.0.0,>=3.2.0 in /usr/local/lib/python3.7/dist-packages (from spacy->bert-extractive-summarizer) (3.3.0)\n",
            "Requirement already satisfied: thinc<8.2.0,>=8.1.0 in /usr/local/lib/python3.7/dist-packages (from spacy->bert-extractive-summarizer) (8.1.5)\n",
            "Requirement already satisfied: typing-extensions<4.2.0,>=3.7.4 in /usr/local/lib/python3.7/dist-packages (from spacy->bert-extractive-summarizer) (4.1.1)\n",
            "Requirement already satisfied: catalogue<2.1.0,>=2.0.6 in /usr/local/lib/python3.7/dist-packages (from spacy->bert-extractive-summarizer) (2.0.8)\n",
            "Requirement already satisfied: pathy>=0.3.5 in /usr/local/lib/python3.7/dist-packages (from spacy->bert-extractive-summarizer) (0.6.2)\n",
            "Requirement already satisfied: zipp>=0.5 in /usr/local/lib/python3.7/dist-packages (from catalogue<2.1.0,>=2.0.6->spacy->bert-extractive-summarizer) (3.10.0)\n",
            "Requirement already satisfied: pyparsing!=3.0.5,>=2.0.2 in /usr/local/lib/python3.7/dist-packages (from packaging>=20.0->spacy->bert-extractive-summarizer) (3.0.9)\n",
            "Requirement already satisfied: smart-open<6.0.0,>=5.2.1 in /usr/local/lib/python3.7/dist-packages (from pathy>=0.3.5->spacy->bert-extractive-summarizer) (5.2.1)\n",
            "Requirement already satisfied: idna<3,>=2.5 in /usr/local/lib/python3.7/dist-packages (from requests<3.0.0,>=2.13.0->spacy->bert-extractive-summarizer) (2.10)\n",
            "Requirement already satisfied: urllib3!=1.25.0,!=1.25.1,<1.26,>=1.21.1 in /usr/local/lib/python3.7/dist-packages (from requests<3.0.0,>=2.13.0->spacy->bert-extractive-summarizer) (1.24.3)\n",
            "Requirement already satisfied: certifi>=2017.4.17 in /usr/local/lib/python3.7/dist-packages (from requests<3.0.0,>=2.13.0->spacy->bert-extractive-summarizer) (2022.9.24)\n",
            "Requirement already satisfied: chardet<4,>=3.0.2 in /usr/local/lib/python3.7/dist-packages (from requests<3.0.0,>=2.13.0->spacy->bert-extractive-summarizer) (3.0.4)\n",
            "Requirement already satisfied: confection<1.0.0,>=0.0.1 in /usr/local/lib/python3.7/dist-packages (from thinc<8.2.0,>=8.1.0->spacy->bert-extractive-summarizer) (0.0.3)\n",
            "Requirement already satisfied: blis<0.8.0,>=0.7.8 in /usr/local/lib/python3.7/dist-packages (from thinc<8.2.0,>=8.1.0->spacy->bert-extractive-summarizer) (0.7.9)\n",
            "Requirement already satisfied: click<9.0.0,>=7.1.1 in /usr/local/lib/python3.7/dist-packages (from typer<0.5.0,>=0.3.0->spacy->bert-extractive-summarizer) (7.1.2)\n",
            "Requirement already satisfied: MarkupSafe>=0.23 in /usr/local/lib/python3.7/dist-packages (from jinja2->spacy->bert-extractive-summarizer) (2.0.1)\n",
            "Requirement already satisfied: huggingface-hub<1.0,>=0.10.0 in /usr/local/lib/python3.7/dist-packages (from transformers->bert-extractive-summarizer) (0.10.1)\n",
            "Requirement already satisfied: importlib-metadata in /usr/local/lib/python3.7/dist-packages (from transformers->bert-extractive-summarizer) (4.13.0)\n",
            "Requirement already satisfied: tokenizers!=0.11.3,<0.14,>=0.11.1 in /usr/local/lib/python3.7/dist-packages (from transformers->bert-extractive-summarizer) (0.13.2)\n",
            "Requirement already satisfied: filelock in /usr/local/lib/python3.7/dist-packages (from transformers->bert-extractive-summarizer) (3.8.0)\n",
            "Requirement already satisfied: pyyaml>=5.1 in /usr/local/lib/python3.7/dist-packages (from transformers->bert-extractive-summarizer) (6.0)\n",
            "Requirement already satisfied: regex!=2019.12.17 in /usr/local/lib/python3.7/dist-packages (from transformers->bert-extractive-summarizer) (2022.6.2)\n"
          ]
        }
      ],
      "source": [
        "!pip install bert-extractive-summarizer"
      ]
    },
    {
      "cell_type": "code",
      "execution_count": null,
      "metadata": {
        "colab": {
          "base_uri": "https://localhost:8080/"
        },
        "id": "wZt43gLL8Dtb",
        "outputId": "721fbba8-f97e-48bb-cca8-45349e66f519"
      },
      "outputs": [
        {
          "name": "stderr",
          "output_type": "stream",
          "text": [
            "Some weights of the model checkpoint at bert-large-uncased were not used when initializing BertModel: ['cls.predictions.transform.LayerNorm.weight', 'cls.seq_relationship.weight', 'cls.predictions.transform.dense.bias', 'cls.predictions.transform.dense.weight', 'cls.predictions.decoder.weight', 'cls.predictions.bias', 'cls.predictions.transform.LayerNorm.bias', 'cls.seq_relationship.bias']\n",
            "- This IS expected if you are initializing BertModel from the checkpoint of a model trained on another task or with another architecture (e.g. initializing a BertForSequenceClassification model from a BertForPreTraining model).\n",
            "- This IS NOT expected if you are initializing BertModel from the checkpoint of a model that you expect to be exactly identical (initializing a BertForSequenceClassification model from a BertForSequenceClassification model).\n"
          ]
        }
      ],
      "source": [
        "from summarizer import Summarizer\n",
        "model=Summarizer()"
      ]
    },
    {
      "cell_type": "code",
      "execution_count": null,
      "metadata": {
        "colab": {
          "base_uri": "https://localhost:8080/"
        },
        "id": "IeDvNRmqnF46",
        "outputId": "7acb684f-4e18-47fb-ec70-e78ebc0caf23"
      },
      "outputs": [
        {
          "output_type": "stream",
          "name": "stdout",
          "text": [
            "Looking in indexes: https://pypi.org/simple, https://us-python.pkg.dev/colab-wheels/public/simple/\n",
            "Requirement already satisfied: transformers in /usr/local/lib/python3.7/dist-packages (4.24.0)\n",
            "Requirement already satisfied: requests in /usr/local/lib/python3.7/dist-packages (from transformers) (2.23.0)\n",
            "Requirement already satisfied: packaging>=20.0 in /usr/local/lib/python3.7/dist-packages (from transformers) (21.3)\n",
            "Requirement already satisfied: filelock in /usr/local/lib/python3.7/dist-packages (from transformers) (3.8.0)\n",
            "Requirement already satisfied: tqdm>=4.27 in /usr/local/lib/python3.7/dist-packages (from transformers) (4.64.1)\n",
            "Requirement already satisfied: pyyaml>=5.1 in /usr/local/lib/python3.7/dist-packages (from transformers) (6.0)\n",
            "Requirement already satisfied: numpy>=1.17 in /usr/local/lib/python3.7/dist-packages (from transformers) (1.21.6)\n",
            "Requirement already satisfied: regex!=2019.12.17 in /usr/local/lib/python3.7/dist-packages (from transformers) (2022.6.2)\n",
            "Requirement already satisfied: tokenizers!=0.11.3,<0.14,>=0.11.1 in /usr/local/lib/python3.7/dist-packages (from transformers) (0.13.2)\n",
            "Requirement already satisfied: importlib-metadata in /usr/local/lib/python3.7/dist-packages (from transformers) (4.13.0)\n",
            "Requirement already satisfied: huggingface-hub<1.0,>=0.10.0 in /usr/local/lib/python3.7/dist-packages (from transformers) (0.10.1)\n",
            "Requirement already satisfied: typing-extensions>=3.7.4.3 in /usr/local/lib/python3.7/dist-packages (from huggingface-hub<1.0,>=0.10.0->transformers) (4.1.1)\n",
            "Requirement already satisfied: pyparsing!=3.0.5,>=2.0.2 in /usr/local/lib/python3.7/dist-packages (from packaging>=20.0->transformers) (3.0.9)\n",
            "Requirement already satisfied: zipp>=0.5 in /usr/local/lib/python3.7/dist-packages (from importlib-metadata->transformers) (3.10.0)\n",
            "Requirement already satisfied: idna<3,>=2.5 in /usr/local/lib/python3.7/dist-packages (from requests->transformers) (2.10)\n",
            "Requirement already satisfied: chardet<4,>=3.0.2 in /usr/local/lib/python3.7/dist-packages (from requests->transformers) (3.0.4)\n",
            "Requirement already satisfied: certifi>=2017.4.17 in /usr/local/lib/python3.7/dist-packages (from requests->transformers) (2022.9.24)\n",
            "Requirement already satisfied: urllib3!=1.25.0,!=1.25.1,<1.26,>=1.21.1 in /usr/local/lib/python3.7/dist-packages (from requests->transformers) (1.24.3)\n"
          ]
        }
      ],
      "source": [
        "!pip install transformers"
      ]
    },
    {
      "cell_type": "code",
      "execution_count": null,
      "metadata": {
        "id": "zdHvRGodi6AV"
      },
      "outputs": [],
      "source": [
        "from transformers import PegasusForConditionalGeneration, PegasusTokenizer #these are our main dependencies"
      ]
    },
    {
      "cell_type": "code",
      "execution_count": null,
      "metadata": {
        "colab": {
          "base_uri": "https://localhost:8080/"
        },
        "id": "lmn-IWf3i6Db",
        "outputId": "7ec98265-cd71-4766-c254-dbf0e1bba448"
      },
      "outputs": [
        {
          "output_type": "stream",
          "name": "stdout",
          "text": [
            "Looking in indexes: https://pypi.org/simple, https://us-python.pkg.dev/colab-wheels/public/simple/\n",
            "Requirement already satisfied: Sentencepiece in /usr/local/lib/python3.7/dist-packages (0.1.97)\n"
          ]
        }
      ],
      "source": [
        "!pip install Sentencepiece"
      ]
    },
    {
      "cell_type": "code",
      "execution_count": null,
      "metadata": {
        "colab": {
          "base_uri": "https://localhost:8080/"
        },
        "id": "Bap0Z-UlnMZl",
        "outputId": "65762f42-bd23-49e7-ac09-67d621619035"
      },
      "outputs": [
        {
          "output_type": "stream",
          "name": "stdout",
          "text": [
            "Looking in indexes: https://pypi.org/simple, https://us-python.pkg.dev/colab-wheels/public/simple/\n",
            "Requirement already satisfied: sentencepiece in /usr/local/lib/python3.7/dist-packages (0.1.97)\n"
          ]
        }
      ],
      "source": [
        "!pip install sentencepiece"
      ]
    },
    {
      "cell_type": "code",
      "execution_count": null,
      "metadata": {
        "id": "4duKBfzmi6GD"
      },
      "outputs": [],
      "source": [
        "tokenizer = PegasusTokenizer.from_pretrained(\"google/pegasus-pubmed\")"
      ]
    },
    {
      "cell_type": "code",
      "execution_count": null,
      "metadata": {
        "id": "vfFv7j7FnTSV"
      },
      "outputs": [],
      "source": [
        "model2=PegasusForConditionalGeneration.from_pretrained(\"google/pegasus-pubmed\")"
      ]
    },
    {
      "cell_type": "code",
      "execution_count": null,
      "metadata": {
        "id": "FFJDOqBhD6lS"
      },
      "outputs": [],
      "source": [
        "import pandas as pd"
      ]
    },
    {
      "cell_type": "code",
      "execution_count": null,
      "metadata": {
        "id": "WavQdW8enTVt"
      },
      "outputs": [],
      "source": [
        "df=pd.read_csv(\"/content/papers1 - Sheet1.csv\")"
      ]
    },
    {
      "cell_type": "code",
      "execution_count": null,
      "metadata": {
        "id": "h2oeIIg4nTZP",
        "colab": {
          "base_uri": "https://localhost:8080/",
          "height": 300
        },
        "outputId": "b7ddb993-e906-40b5-b8c1-68579660149c"
      },
      "outputs": [
        {
          "output_type": "execute_result",
          "data": {
            "text/plain": [
              "                                               TITLE  \\\n",
              "0  Stock Prediction using Machine Learning a Revi...   \n",
              "1  Sentiment Analysis for Product Recommendation ...   \n",
              "2  EDM – survey of performance factors and algori...   \n",
              "3                            Fake News Detector: FND   \n",
              "4  Effect of image binarization thresholds on bre...   \n",
              "5  A review of microscopic analysis of blood cell...   \n",
              "6  On Context Awareness for Multisensor Data Fusi...   \n",
              "7  Iris Liveness Detection for Biometric Authenti...   \n",
              "\n",
              "                                        INTRODUCTION  \\\n",
              "0  Machine learning can be defined as the data wh...   \n",
              "1  Sentimental Analysis is nothing but the task o...   \n",
              "2  Data mining is a process to extract informatio...   \n",
              "3  Fake news can be defined as a pseudo-news or j...   \n",
              "4  Early detection of breast cancer plays a very ...   \n",
              "5  Blood, the most integral part of the body, is ...   \n",
              "6  The concept of the internet of things (IoT) or...   \n",
              "7  During the primeval eras, there were restricte...   \n",
              "\n",
              "                                               Ref 1  \\\n",
              "0  In machine learning, data is obtained by knowl...   \n",
              "1  Sentiment analysis is computational methodolog...   \n",
              "2  Educational Data Mining refers to techniques, ...   \n",
              "3  Parameters including websites data, website va...   \n",
              "4                                                NaN   \n",
              "5                                                NaN   \n",
              "6                                                NaN   \n",
              "7                                                NaN   \n",
              "\n",
              "                                               Ref 2  \\\n",
              "0  Machine learning is used to describe the proce...   \n",
              "1  This paper presents a computational approach f...   \n",
              "2  Data Mining is the extraction of information f...   \n",
              "3  Rapid spread of fake news is a serious problem...   \n",
              "4                                                NaN   \n",
              "5                                                NaN   \n",
              "6                                                NaN   \n",
              "7                                                NaN   \n",
              "\n",
              "                                               Ref 3  \n",
              "0  Machine learning can be defined as the data wh...  \n",
              "1  Sentimental Analysis is a task of Natural Lang...  \n",
              "2  Data mining is a process to extracting informa...  \n",
              "3  Fake news, defined as a pseudo-news or junk ne...  \n",
              "4                                                NaN  \n",
              "5                                                NaN  \n",
              "6                                                NaN  \n",
              "7                                                NaN  "
            ],
            "text/html": [
              "\n",
              "  <div id=\"df-c8682edd-c36a-41af-a02f-968c6bfed81a\">\n",
              "    <div class=\"colab-df-container\">\n",
              "      <div>\n",
              "<style scoped>\n",
              "    .dataframe tbody tr th:only-of-type {\n",
              "        vertical-align: middle;\n",
              "    }\n",
              "\n",
              "    .dataframe tbody tr th {\n",
              "        vertical-align: top;\n",
              "    }\n",
              "\n",
              "    .dataframe thead th {\n",
              "        text-align: right;\n",
              "    }\n",
              "</style>\n",
              "<table border=\"1\" class=\"dataframe\">\n",
              "  <thead>\n",
              "    <tr style=\"text-align: right;\">\n",
              "      <th></th>\n",
              "      <th>TITLE</th>\n",
              "      <th>INTRODUCTION</th>\n",
              "      <th>Ref 1</th>\n",
              "      <th>Ref 2</th>\n",
              "      <th>Ref 3</th>\n",
              "    </tr>\n",
              "  </thead>\n",
              "  <tbody>\n",
              "    <tr>\n",
              "      <th>0</th>\n",
              "      <td>Stock Prediction using Machine Learning a Revi...</td>\n",
              "      <td>Machine learning can be defined as the data wh...</td>\n",
              "      <td>In machine learning, data is obtained by knowl...</td>\n",
              "      <td>Machine learning is used to describe the proce...</td>\n",
              "      <td>Machine learning can be defined as the data wh...</td>\n",
              "    </tr>\n",
              "    <tr>\n",
              "      <th>1</th>\n",
              "      <td>Sentiment Analysis for Product Recommendation ...</td>\n",
              "      <td>Sentimental Analysis is nothing but the task o...</td>\n",
              "      <td>Sentiment analysis is computational methodolog...</td>\n",
              "      <td>This paper presents a computational approach f...</td>\n",
              "      <td>Sentimental Analysis is a task of Natural Lang...</td>\n",
              "    </tr>\n",
              "    <tr>\n",
              "      <th>2</th>\n",
              "      <td>EDM – survey of performance factors and algori...</td>\n",
              "      <td>Data mining is a process to extract informatio...</td>\n",
              "      <td>Educational Data Mining refers to techniques, ...</td>\n",
              "      <td>Data Mining is the extraction of information f...</td>\n",
              "      <td>Data mining is a process to extracting informa...</td>\n",
              "    </tr>\n",
              "    <tr>\n",
              "      <th>3</th>\n",
              "      <td>Fake News Detector: FND</td>\n",
              "      <td>Fake news can be defined as a pseudo-news or j...</td>\n",
              "      <td>Parameters including websites data, website va...</td>\n",
              "      <td>Rapid spread of fake news is a serious problem...</td>\n",
              "      <td>Fake news, defined as a pseudo-news or junk ne...</td>\n",
              "    </tr>\n",
              "    <tr>\n",
              "      <th>4</th>\n",
              "      <td>Effect of image binarization thresholds on bre...</td>\n",
              "      <td>Early detection of breast cancer plays a very ...</td>\n",
              "      <td>NaN</td>\n",
              "      <td>NaN</td>\n",
              "      <td>NaN</td>\n",
              "    </tr>\n",
              "    <tr>\n",
              "      <th>5</th>\n",
              "      <td>A review of microscopic analysis of blood cell...</td>\n",
              "      <td>Blood, the most integral part of the body, is ...</td>\n",
              "      <td>NaN</td>\n",
              "      <td>NaN</td>\n",
              "      <td>NaN</td>\n",
              "    </tr>\n",
              "    <tr>\n",
              "      <th>6</th>\n",
              "      <td>On Context Awareness for Multisensor Data Fusi...</td>\n",
              "      <td>The concept of the internet of things (IoT) or...</td>\n",
              "      <td>NaN</td>\n",
              "      <td>NaN</td>\n",
              "      <td>NaN</td>\n",
              "    </tr>\n",
              "    <tr>\n",
              "      <th>7</th>\n",
              "      <td>Iris Liveness Detection for Biometric Authenti...</td>\n",
              "      <td>During the primeval eras, there were restricte...</td>\n",
              "      <td>NaN</td>\n",
              "      <td>NaN</td>\n",
              "      <td>NaN</td>\n",
              "    </tr>\n",
              "  </tbody>\n",
              "</table>\n",
              "</div>\n",
              "      <button class=\"colab-df-convert\" onclick=\"convertToInteractive('df-c8682edd-c36a-41af-a02f-968c6bfed81a')\"\n",
              "              title=\"Convert this dataframe to an interactive table.\"\n",
              "              style=\"display:none;\">\n",
              "        \n",
              "  <svg xmlns=\"http://www.w3.org/2000/svg\" height=\"24px\"viewBox=\"0 0 24 24\"\n",
              "       width=\"24px\">\n",
              "    <path d=\"M0 0h24v24H0V0z\" fill=\"none\"/>\n",
              "    <path d=\"M18.56 5.44l.94 2.06.94-2.06 2.06-.94-2.06-.94-.94-2.06-.94 2.06-2.06.94zm-11 1L8.5 8.5l.94-2.06 2.06-.94-2.06-.94L8.5 2.5l-.94 2.06-2.06.94zm10 10l.94 2.06.94-2.06 2.06-.94-2.06-.94-.94-2.06-.94 2.06-2.06.94z\"/><path d=\"M17.41 7.96l-1.37-1.37c-.4-.4-.92-.59-1.43-.59-.52 0-1.04.2-1.43.59L10.3 9.45l-7.72 7.72c-.78.78-.78 2.05 0 2.83L4 21.41c.39.39.9.59 1.41.59.51 0 1.02-.2 1.41-.59l7.78-7.78 2.81-2.81c.8-.78.8-2.07 0-2.86zM5.41 20L4 18.59l7.72-7.72 1.47 1.35L5.41 20z\"/>\n",
              "  </svg>\n",
              "      </button>\n",
              "      \n",
              "  <style>\n",
              "    .colab-df-container {\n",
              "      display:flex;\n",
              "      flex-wrap:wrap;\n",
              "      gap: 12px;\n",
              "    }\n",
              "\n",
              "    .colab-df-convert {\n",
              "      background-color: #E8F0FE;\n",
              "      border: none;\n",
              "      border-radius: 50%;\n",
              "      cursor: pointer;\n",
              "      display: none;\n",
              "      fill: #1967D2;\n",
              "      height: 32px;\n",
              "      padding: 0 0 0 0;\n",
              "      width: 32px;\n",
              "    }\n",
              "\n",
              "    .colab-df-convert:hover {\n",
              "      background-color: #E2EBFA;\n",
              "      box-shadow: 0px 1px 2px rgba(60, 64, 67, 0.3), 0px 1px 3px 1px rgba(60, 64, 67, 0.15);\n",
              "      fill: #174EA6;\n",
              "    }\n",
              "\n",
              "    [theme=dark] .colab-df-convert {\n",
              "      background-color: #3B4455;\n",
              "      fill: #D2E3FC;\n",
              "    }\n",
              "\n",
              "    [theme=dark] .colab-df-convert:hover {\n",
              "      background-color: #434B5C;\n",
              "      box-shadow: 0px 1px 3px 1px rgba(0, 0, 0, 0.15);\n",
              "      filter: drop-shadow(0px 1px 2px rgba(0, 0, 0, 0.3));\n",
              "      fill: #FFFFFF;\n",
              "    }\n",
              "  </style>\n",
              "\n",
              "      <script>\n",
              "        const buttonEl =\n",
              "          document.querySelector('#df-c8682edd-c36a-41af-a02f-968c6bfed81a button.colab-df-convert');\n",
              "        buttonEl.style.display =\n",
              "          google.colab.kernel.accessAllowed ? 'block' : 'none';\n",
              "\n",
              "        async function convertToInteractive(key) {\n",
              "          const element = document.querySelector('#df-c8682edd-c36a-41af-a02f-968c6bfed81a');\n",
              "          const dataTable =\n",
              "            await google.colab.kernel.invokeFunction('convertToInteractive',\n",
              "                                                     [key], {});\n",
              "          if (!dataTable) return;\n",
              "\n",
              "          const docLinkHtml = 'Like what you see? Visit the ' +\n",
              "            '<a target=\"_blank\" href=https://colab.research.google.com/notebooks/data_table.ipynb>data table notebook</a>'\n",
              "            + ' to learn more about interactive tables.';\n",
              "          element.innerHTML = '';\n",
              "          dataTable['output_type'] = 'display_data';\n",
              "          await google.colab.output.renderOutput(dataTable, element);\n",
              "          const docLink = document.createElement('div');\n",
              "          docLink.innerHTML = docLinkHtml;\n",
              "          element.appendChild(docLink);\n",
              "        }\n",
              "      </script>\n",
              "    </div>\n",
              "  </div>\n",
              "  "
            ]
          },
          "metadata": {},
          "execution_count": 144
        }
      ],
      "source": [
        "df"
      ]
    },
    {
      "cell_type": "code",
      "execution_count": null,
      "metadata": {
        "id": "iLIPACEa-jYP"
      },
      "outputs": [],
      "source": [
        "reference11=df['Ref 1'][0]\n",
        "reference21=df['Ref 1'][1]\n",
        "reference31=df['Ref 1'][2]\n",
        "reference41=df['Ref 1'][3]\n",
        "#print(reference11, reference21, reference31, reference41)"
      ]
    },
    {
      "cell_type": "code",
      "execution_count": null,
      "metadata": {
        "id": "3B-byrbQ-jaw"
      },
      "outputs": [],
      "source": [
        "text1=df['INTRODUCTION'][0]\n",
        "text2=df['INTRODUCTION'][1]\n",
        "text3=df['INTRODUCTION'][2]\n",
        "text4=df['INTRODUCTION'][3]\n"
      ]
    },
    {
      "cell_type": "code",
      "execution_count": null,
      "metadata": {
        "id": "lGXXpJnS-jd0"
      },
      "outputs": [],
      "source": [
        "reference12=df['Ref 2'][0]\n",
        "reference22=df['Ref 2'][1]\n",
        "reference32=df['Ref 2'][2]\n",
        "reference42=df['Ref 2'][3]"
      ]
    },
    {
      "cell_type": "code",
      "execution_count": null,
      "metadata": {
        "id": "9Nc384u5_io4"
      },
      "outputs": [],
      "source": [
        "reference13=df['Ref 3'][0]\n",
        "reference23=df['Ref 3'][1]\n",
        "reference33=df['Ref 3'][2]\n",
        "reference43=df['Ref 3'][3]"
      ]
    },
    {
      "cell_type": "markdown",
      "metadata": {
        "id": "GVAnCWf0n23L"
      },
      "source": [
        "##Sample 1"
      ]
    },
    {
      "cell_type": "code",
      "execution_count": null,
      "metadata": {
        "colab": {
          "base_uri": "https://localhost:8080/",
          "height": 88
        },
        "id": "ZTPAKR4X8GIT",
        "outputId": "e4923e7e-260d-428c-a13f-afdcb6de0322"
      },
      "outputs": [
        {
          "output_type": "execute_result",
          "data": {
            "text/plain": [
              "'Machine learning can be defined as the data which is obtained by knowledge extraction. Machines don‟t have to be programmed explicitly instead they are trained to make decisions that are driven by data. Instead of writing a code for every specific problem, data is provided to the generic algorithms and logic is developed on the basis of that data. When a machine improves its performance based on its past experiences it can be said that machine has truly learnt. The technique for most accurate prediction is by learning from past instances, and to make a program to do this is best possible with machine learning techniques. Any machine learning technique (supervised or unsupervised) is efficient enough to generate rules for programs, in consideration with present ones to take a better decision. In this scenario, the decision is whether the stock will increase or decrease (Stock analysis).'"
            ],
            "application/vnd.google.colaboratory.intrinsic+json": {
              "type": "string"
            }
          },
          "metadata": {},
          "execution_count": 221
        }
      ],
      "source": [
        "text1"
      ]
    },
    {
      "cell_type": "code",
      "execution_count": null,
      "metadata": {
        "id": "XfY6Wdnciek1"
      },
      "outputs": [],
      "source": [
        "preprocess_text1 = text1.strip().replace(\"\\n\",\"\")\n"
      ]
    },
    {
      "cell_type": "code",
      "execution_count": null,
      "metadata": {
        "colab": {
          "base_uri": "https://localhost:8080/"
        },
        "id": "33vr4F-Fien4",
        "outputId": "33aa2871-f197-4bd7-bf42-b99adda4f334"
      },
      "outputs": [
        {
          "output_type": "stream",
          "name": "stdout",
          "text": [
            "Machine learning can be defined as the data which is obtained by knowledge extraction. Instead of writing a code for every specific problem, data is provided to the generic algorithms and logic is developed on the basis of that data.\n"
          ]
        }
      ],
      "source": [
        "summary1=model(preprocess_text1)\n",
        "print(summary1)"
      ]
    },
    {
      "cell_type": "code",
      "execution_count": null,
      "metadata": {
        "id": "2J8GBf9Yieq2"
      },
      "outputs": [],
      "source": [
        "tokens=tokenizer(summary1, truncation=True, padding=\"longest\", return_tensors=\"pt\")\n"
      ]
    },
    {
      "cell_type": "code",
      "execution_count": null,
      "metadata": {
        "id": "lUGkrZKpietn"
      },
      "outputs": [],
      "source": [
        "summary12 = model2.generate(**tokens,max_length=100)"
      ]
    },
    {
      "cell_type": "code",
      "execution_count": null,
      "metadata": {
        "id": "fVhXYWgXiewf"
      },
      "outputs": [],
      "source": [
        "output1=tokenizer.decode(summary12[0])"
      ]
    },
    {
      "cell_type": "code",
      "execution_count": null,
      "metadata": {
        "colab": {
          "base_uri": "https://localhost:8080/",
          "height": 54
        },
        "id": "KtitlfU5ie6r",
        "outputId": "db3db8a3-061b-4635-f2ce-dde6162e757d"
      },
      "outputs": [
        {
          "output_type": "execute_result",
          "data": {
            "text/plain": [
              "'the term learning is used to describe the process of extracting knowledge from a code. <n> learning can be defined as the data is obtained by knowledge extraction from a specific problem. <n> generic algorithms are provided for the knowledge extraction from a code, which is provided on the basis of logic that is developed for writing a specific problem.'"
            ],
            "application/vnd.google.colaboratory.intrinsic+json": {
              "type": "string"
            }
          },
          "metadata": {},
          "execution_count": 155
        }
      ],
      "source": [
        "output1"
      ]
    },
    {
      "cell_type": "code",
      "execution_count": null,
      "metadata": {
        "colab": {
          "base_uri": "https://localhost:8080/"
        },
        "id": "z3dL2hvaiwqp",
        "outputId": "39147b87-f0a5-4374-b3a8-42e431e404e2"
      },
      "outputs": [
        {
          "output_type": "stream",
          "name": "stdout",
          "text": [
            "Looking in indexes: https://pypi.org/simple, https://us-python.pkg.dev/colab-wheels/public/simple/\n",
            "Requirement already satisfied: rouge in /usr/local/lib/python3.7/dist-packages (1.0.1)\n",
            "Requirement already satisfied: six in /usr/local/lib/python3.7/dist-packages (from rouge) (1.15.0)\n"
          ]
        }
      ],
      "source": [
        "!pip install rouge"
      ]
    },
    {
      "cell_type": "code",
      "execution_count": null,
      "metadata": {
        "id": "-WBhe-noiwtX"
      },
      "outputs": [],
      "source": [
        "from rouge import Rouge"
      ]
    },
    {
      "cell_type": "code",
      "execution_count": null,
      "metadata": {
        "colab": {
          "base_uri": "https://localhost:8080/"
        },
        "id": "i4TdosdAiwv4",
        "outputId": "f374ad5d-48ed-4e9e-add0-762af4907914"
      },
      "outputs": [
        {
          "output_type": "execute_result",
          "data": {
            "text/plain": [
              "[{'rouge-1': {'r': 0.4, 'p': 0.21052631578947367, 'f': 0.27586206444708683},\n",
              "  'rouge-2': {'r': 0.2631578947368421,\n",
              "   'p': 0.09433962264150944,\n",
              "   'f': 0.13888888500385813},\n",
              "  'rouge-l': {'r': 0.4, 'p': 0.21052631578947367, 'f': 0.27586206444708683}}]"
            ]
          },
          "metadata": {},
          "execution_count": 158
        }
      ],
      "source": [
        "rouge = Rouge()\n",
        "rouge.get_scores(output1, reference11)"
      ]
    },
    {
      "cell_type": "code",
      "execution_count": null,
      "metadata": {
        "id": "2rLWtZmhEXoR"
      },
      "outputs": [],
      "source": [
        "from nltk.translate.bleu_score import corpus_bleu, sentence_bleu\n"
      ]
    },
    {
      "cell_type": "code",
      "execution_count": null,
      "metadata": {
        "colab": {
          "base_uri": "https://localhost:8080/"
        },
        "id": "I1YfAnQTeq4D",
        "outputId": "e3ae1269-7e4b-4717-df41-261652b777f5"
      },
      "outputs": [
        {
          "output_type": "stream",
          "name": "stdout",
          "text": [
            "BLEU SCORE: 0.4173896843940444\n"
          ]
        }
      ],
      "source": [
        "reference_1 = [\n",
        "    reference12.split(),\n",
        "    reference13.split()\n",
        "]\n",
        "from nltk.translate.bleu_score import corpus_bleu\n",
        "summary_1=output1.split()\n",
        "score = sentence_bleu(reference_1, summary_1)\n",
        "print(\"BLEU SCORE:\",score)"
      ]
    },
    {
      "cell_type": "markdown",
      "metadata": {
        "id": "gEholGnXn0hB"
      },
      "source": [
        "##Sample 2"
      ]
    },
    {
      "cell_type": "code",
      "execution_count": null,
      "metadata": {
        "colab": {
          "base_uri": "https://localhost:8080/",
          "height": 106
        },
        "id": "rKV2f34Ld6AB",
        "outputId": "03fa3cca-9e49-480c-fe11-4df08edbf658"
      },
      "outputs": [
        {
          "output_type": "execute_result",
          "data": {
            "text/plain": [
              "'Sentimental Analysis is nothing but the task of Natural Language Processing. It observes the attitude of customer behind the comments. Sentiment analysis is a method of identifying sentiments in text.  Sentiment analysis is computational methodology of extracting sentiments from text, speech or dataset. It can classify emotions, attitude, opinion and subjective impression into polarity. Researchers and decision makers understand the approach of the people using consumer sentiment analysis and can make decisions accordingly. Business analysis application can be developed by using this technique. Social network development and popularity is increasing day by day. A growing number of users prefer to order online products and prefer to share their experiences on social networks. Searching for appropriate product online is a difficult task. Recommender system can help users by providing suggestions. Recommender system creates recommendation list. There are three Recommendation system approaches, content based, collaborative and hybrid approach. The content-based approach considers the information of an item and the user’s profile and the recommendation of items is based on the user’s preferences. The collaborative-based approach analyses the user behaviour and preferences and find the same preferences among people. It is well known that collaborative-based techniques are normally more accurate than content-based techniques. The hybrid approach combines both methods. User’s feedback is important tool in recommendation system. The recommendation systems gives suggestion based on the user history and on the user’s profile, but nowadays, the recommendations are starting to explore making more suggestions based on sentiment analysis.'"
            ],
            "application/vnd.google.colaboratory.intrinsic+json": {
              "type": "string"
            }
          },
          "metadata": {},
          "execution_count": 161
        }
      ],
      "source": [
        "#sample 2 : Sentiment Analysis for Product Recommendation Using Random Forest\n",
        "text2"
      ]
    },
    {
      "cell_type": "code",
      "execution_count": null,
      "metadata": {
        "id": "cDGtkRNleEaW"
      },
      "outputs": [],
      "source": [
        "preprocess_text2=text2.strip().replace(\"\\n\",\"\")"
      ]
    },
    {
      "cell_type": "code",
      "execution_count": null,
      "metadata": {
        "colab": {
          "base_uri": "https://localhost:8080/"
        },
        "id": "F-n_cEIReM67",
        "outputId": "1b925e82-33c5-4166-a731-e7746ec6d131"
      },
      "outputs": [
        {
          "output_type": "stream",
          "name": "stdout",
          "text": [
            "Sentimental Analysis is nothing but the task of Natural Language Processing. Sentiment analysis is computational methodology of extracting sentiments from text, speech or dataset. Business analysis application can be developed by using this technique. The content-based approach considers the information of an item and the user’s profile and the recommendation of items is based on the user’s preferences.\n"
          ]
        }
      ],
      "source": [
        "summary2=model(preprocess_text2)\n",
        "print(summary2)"
      ]
    },
    {
      "cell_type": "code",
      "execution_count": null,
      "metadata": {
        "id": "t0ScB_9Refr5"
      },
      "outputs": [],
      "source": [
        "tokens2=tokenizer(summary2, truncation=True, padding=\"longest\", return_tensors=\"pt\")"
      ]
    },
    {
      "cell_type": "code",
      "execution_count": null,
      "metadata": {
        "id": "b7MLCfbgebDF"
      },
      "outputs": [],
      "source": [
        "summary22=model2.generate(**tokens2, max_length=100)"
      ]
    },
    {
      "cell_type": "code",
      "execution_count": null,
      "metadata": {
        "id": "1Qf-gx2UeqlA"
      },
      "outputs": [],
      "source": [
        "output2=tokenizer.decode(summary22[0])"
      ]
    },
    {
      "cell_type": "code",
      "execution_count": null,
      "metadata": {
        "colab": {
          "base_uri": "https://localhost:8080/",
          "height": 54
        },
        "id": "ia63mLAEnv-r",
        "outputId": "5c098939-514c-49ca-a8d1-d177dfe2d057"
      },
      "outputs": [
        {
          "output_type": "execute_result",
          "data": {
            "text/plain": [
              "'objectivethe purpose of this paper is to present a computational approach for extracting sentiments from text analysis.methodologythe extracted sentiments are classified into three categories : ( 1 ) individual ; ( 2 ) group ; and ( 3 ) group. <n> first, the extracted sentiments are compared between the three groups. <n> then, the extracted sentiments are classified into three categories : ( 1 ) individual ; ( 2 ) group ;'"
            ],
            "application/vnd.google.colaboratory.intrinsic+json": {
              "type": "string"
            }
          },
          "metadata": {},
          "execution_count": 167
        }
      ],
      "source": [
        "output2"
      ]
    },
    {
      "cell_type": "code",
      "execution_count": null,
      "metadata": {
        "id": "33b9priE9Tfb"
      },
      "outputs": [],
      "source": [
        "from rouge import Rouge"
      ]
    },
    {
      "cell_type": "code",
      "execution_count": null,
      "metadata": {
        "colab": {
          "base_uri": "https://localhost:8080/"
        },
        "id": "gk_Tvlmo9Y4d",
        "outputId": "79054857-2204-42fe-aeca-9832865b3546"
      },
      "outputs": [
        {
          "output_type": "execute_result",
          "data": {
            "text/plain": [
              "[{'rouge-1': {'r': 0.391304347826087,\n",
              "   'p': 0.21951219512195122,\n",
              "   'f': 0.2812499953955079},\n",
              "  'rouge-2': {'r': 0.045454545454545456,\n",
              "   'p': 0.0196078431372549,\n",
              "   'f': 0.02739725606305188},\n",
              "  'rouge-l': {'r': 0.21739130434782608,\n",
              "   'p': 0.12195121951219512,\n",
              "   'f': 0.15624999539550796}}]"
            ]
          },
          "metadata": {},
          "execution_count": 169
        }
      ],
      "source": [
        "rouge = Rouge()\n",
        "rouge.get_scores(output2, reference21)"
      ]
    },
    {
      "cell_type": "code",
      "execution_count": null,
      "metadata": {
        "colab": {
          "base_uri": "https://localhost:8080/"
        },
        "id": "d-IzmRG8DCZv",
        "outputId": "b4bec4db-15d0-4725-dc26-135cc5fc5f19"
      },
      "outputs": [
        {
          "output_type": "stream",
          "name": "stdout",
          "text": [
            "BLEU SCORE: 0.18402033329558412\n"
          ]
        }
      ],
      "source": [
        "reference_2 = [\n",
        "    reference22.split(),\n",
        "    reference23.split()\n",
        "]\n",
        "from nltk.translate.bleu_score import corpus_bleu\n",
        "summary_2=output2.split()\n",
        "score = sentence_bleu(reference_2, summary_2)\n",
        "print(\"BLEU SCORE:\",score)"
      ]
    },
    {
      "cell_type": "markdown",
      "metadata": {
        "id": "QyirTComriRP"
      },
      "source": [
        "##Sample 3"
      ]
    },
    {
      "cell_type": "code",
      "execution_count": null,
      "metadata": {
        "colab": {
          "base_uri": "https://localhost:8080/",
          "height": 106
        },
        "id": "W8G6HTOLrjWj",
        "outputId": "6f2b96a2-7114-441e-8854-b238873cceea"
      },
      "outputs": [
        {
          "output_type": "execute_result",
          "data": {
            "text/plain": [
              "'Data mining is a process to extract information from a data set and transform it into an understandable structure for further use. Educational Data Mining (EDM) relates to the inter-disciplinary research that deals with the development of various methods and techniques to explore the data generated from different educational sources. Analysing educational data could provide information of student’s behaviours, based on which education policies would be made properly.[1] Educational Data Mining refers to techniques, tools, and research designed for automatically extracting meaning from large repositories of data generated by or related to people’s learning activities in educational settings. Recent advances in educational technology, including the increase in computing power and the ability to log fine-grained data about student’s use of a computer-based learning environment, have led to an increased interest in developing techniques for analysing the large amounts of data generated in educational settings. This paper presents a study on current state of EDM and identifies the algorithms applied. Section 2 talks about the Goals and Methods in EDM, section 3 proposes purpose of study and presents the study in summarized fashion. Section 4 talks about role and study about performance factors. Section 5 presents the findings from the survey followed by conclusion. '"
            ],
            "application/vnd.google.colaboratory.intrinsic+json": {
              "type": "string"
            }
          },
          "metadata": {},
          "execution_count": 171
        }
      ],
      "source": [
        "#sample 3 :  EDM – survey of performance factors and algorithms applied\n",
        "text3 "
      ]
    },
    {
      "cell_type": "code",
      "execution_count": null,
      "metadata": {
        "id": "9VExOzsUrx-N"
      },
      "outputs": [],
      "source": [
        "preprocess_text3=text3.strip().replace(\"\\n\",\"\")"
      ]
    },
    {
      "cell_type": "code",
      "execution_count": null,
      "metadata": {
        "colab": {
          "base_uri": "https://localhost:8080/"
        },
        "id": "WsBgyxMrsUsG",
        "outputId": "9b567cef-6825-4ff8-f668-1b7f6fae2205"
      },
      "outputs": [
        {
          "output_type": "stream",
          "name": "stdout",
          "text": [
            "Data mining is a process to extract information from a data set and transform it into an understandable structure for further use. Educational Data Mining (EDM) relates to the inter-disciplinary research that deals with the development of various methods and techniques to explore the data generated from different educational sources.\n"
          ]
        }
      ],
      "source": [
        "summary3=model(preprocess_text3)\n",
        "print(summary3)"
      ]
    },
    {
      "cell_type": "code",
      "execution_count": null,
      "metadata": {
        "id": "QDh9MY88sUuj"
      },
      "outputs": [],
      "source": [
        "tokens3=tokenizer(summary3, truncation=True, padding=\"longest\", return_tensors=\"pt\")"
      ]
    },
    {
      "cell_type": "code",
      "execution_count": null,
      "metadata": {
        "id": "PoG9MkPQsUyb"
      },
      "outputs": [],
      "source": [
        "summary32=model2.generate(**tokens3,max_length=100)"
      ]
    },
    {
      "cell_type": "code",
      "execution_count": null,
      "metadata": {
        "id": "dwA2ArdZsU1D"
      },
      "outputs": [],
      "source": [
        "output3=tokenizer.decode(summary32[0])"
      ]
    },
    {
      "cell_type": "code",
      "execution_count": null,
      "metadata": {
        "colab": {
          "base_uri": "https://localhost:8080/",
          "height": 54
        },
        "id": "Z0ZBGuHAsU7e",
        "outputId": "221323ca-6b51-4323-d447-eb934ad1c523"
      },
      "outputs": [
        {
          "output_type": "execute_result",
          "data": {
            "text/plain": [
              "'mining is the extraction of information from data and transforms it into understandable structure. <n> it can be applied in various fields, such as biology, medicine, computer science, and engineering. <n> it can also be used as a tool for educational purposes.'"
            ],
            "application/vnd.google.colaboratory.intrinsic+json": {
              "type": "string"
            }
          },
          "metadata": {},
          "execution_count": 177
        }
      ],
      "source": [
        "output3"
      ]
    },
    {
      "cell_type": "code",
      "execution_count": null,
      "metadata": {
        "colab": {
          "base_uri": "https://localhost:8080/"
        },
        "id": "xqxXmnIOryBE",
        "outputId": "8ab3bdd5-276d-4c49-bdd2-866336f6eb73"
      },
      "outputs": [
        {
          "output_type": "execute_result",
          "data": {
            "text/plain": [
              "[{'rouge-1': {'r': 0.2, 'p': 0.17142857142857143, 'f': 0.18461537964497055},\n",
              "  'rouge-2': {'r': 0.0, 'p': 0.0, 'f': 0.0},\n",
              "  'rouge-l': {'r': 0.16666666666666666,\n",
              "   'p': 0.14285714285714285,\n",
              "   'f': 0.1538461488757398}}]"
            ]
          },
          "metadata": {},
          "execution_count": 178
        }
      ],
      "source": [
        "reference3 =\"Sentiment analysis is computational methodology of ex-tracting sentiments  from text, speech or dataset to classify emotions, attitude, opinion and subjective impression into polarity.\"\n",
        "rouge = Rouge()\n",
        "rouge.get_scores(output3, reference31)"
      ]
    },
    {
      "cell_type": "code",
      "execution_count": null,
      "metadata": {
        "colab": {
          "base_uri": "https://localhost:8080/"
        },
        "id": "TCQjRCw9BBI4",
        "outputId": "a0369620-90bc-46ec-b0e5-0e6ef6220c9e"
      },
      "outputs": [
        {
          "output_type": "stream",
          "name": "stdout",
          "text": [
            "BLEU SCORE: 0.6446854746222488\n"
          ]
        }
      ],
      "source": [
        "reference_3 = [\n",
        "    reference32.split(),\n",
        "    reference33.split()\n",
        "]\n",
        "from nltk.translate.bleu_score import corpus_bleu\n",
        "summary_3=output3.split()\n",
        "score = sentence_bleu(reference_3, summary_3)\n",
        "print(\"BLEU SCORE:\",score)"
      ]
    },
    {
      "cell_type": "markdown",
      "metadata": {
        "id": "mbYXp7CwrjtV"
      },
      "source": [
        "##Sample 4"
      ]
    },
    {
      "cell_type": "code",
      "execution_count": null,
      "metadata": {
        "colab": {
          "base_uri": "https://localhost:8080/",
          "height": 106
        },
        "id": "a275N-gHrvT7",
        "outputId": "1a7d212a-49f5-41e2-c179-f82c13b4ca8a"
      },
      "outputs": [
        {
          "output_type": "execute_result",
          "data": {
            "text/plain": [
              "'Fake news can be defined as a pseudo-news or junk news which is false information or content spread via different broadcasting media. This false information is mainly created to mislead people or to cause ravage to a person, organization, etc., or to gain financial benefits. Easier ways to get news nowadays are from sources like media outlets, newspapers, journalists where they follow defined strict codes of practice; this is the traditional method. But the increase in internet network has changed the certain aspect of publishing and sharing the news and information with less editorial standards and regulations. On the other hand, the news is being manipulated by various networking sites based on personal opinions or interests.[1] Fake news causes immense damage in different ways such as misleading people with sharing false information, this can create racists ideas or can damage people’s sentiments, which can give rise to violence among people i.e. causing real-life impacts, etc. This rapid spread of fake news is a serious problem calling for AI solutions.[3] To overcome this, the system is developed which identifies the news authenticity and identifies it as Fake News or Real News. This is done by analyzing the news content where analysis is done on the basis of defined parameters. In the proposed system the user directly enters the data or the news content (news headlines) and enters into the systems search bar and gets the result. The proposed system works upon the two main algorithms i.e. Naive Bayes algorithm and TFIDF algorithm. The defined parameters help to identify the news content and increases the accuracy of the system. Parameters considered are website data, website validates, the similarity of content, timestamps, reviews, and grammatical analysis. These parameters calculate the news authenticity and generate the final result as fake or real news.'"
            ],
            "application/vnd.google.colaboratory.intrinsic+json": {
              "type": "string"
            }
          },
          "metadata": {},
          "execution_count": 180
        }
      ],
      "source": [
        "#sample 4 : Fake News Detector: FND\n",
        "text4 "
      ]
    },
    {
      "cell_type": "code",
      "execution_count": null,
      "metadata": {
        "id": "M7tJM_LNrvW8"
      },
      "outputs": [],
      "source": [
        "preprocess_text4=text4.strip().replace(\"\\n\",\"\")"
      ]
    },
    {
      "cell_type": "code",
      "execution_count": null,
      "metadata": {
        "colab": {
          "base_uri": "https://localhost:8080/"
        },
        "id": "BrZegIS9rvaZ",
        "outputId": "9d2f12f1-65ac-45e4-9691-feaf88456a4b"
      },
      "outputs": [
        {
          "output_type": "stream",
          "name": "stdout",
          "text": [
            "Fake news can be defined as a pseudo-news or junk news which is false information or content spread via different broadcasting media. This rapid spread of fake news is a serious problem calling for AI solutions.[3] To overcome this, the system is developed which identifies the news authenticity and identifies it as Fake News or Real News. This is done by analyzing the news content where analysis is done on the basis of defined parameters.\n"
          ]
        }
      ],
      "source": [
        "summary4=model(preprocess_text4)\n",
        "print(summary4)"
      ]
    },
    {
      "cell_type": "code",
      "execution_count": null,
      "metadata": {
        "id": "eulL0_2ksxBU"
      },
      "outputs": [],
      "source": [
        "tokens4=tokenizer(summary4, truncation=True, padding=\"longest\", return_tensors=\"pt\")"
      ]
    },
    {
      "cell_type": "code",
      "execution_count": null,
      "metadata": {
        "id": "SNzxMjxGsxFX"
      },
      "outputs": [],
      "source": [
        "summary42=model2.generate(**tokens4,max_length=100)"
      ]
    },
    {
      "cell_type": "code",
      "execution_count": null,
      "metadata": {
        "id": "eJ7ojNZYsxL2"
      },
      "outputs": [],
      "source": [
        "output4=tokenizer.decode(summary42[0])"
      ]
    },
    {
      "cell_type": "code",
      "execution_count": null,
      "metadata": {
        "colab": {
          "base_uri": "https://localhost:8080/",
          "height": 36
        },
        "id": "GtoG1XkhsxRG",
        "outputId": "c34b8b79-fdf2-427d-a111-201959880bf4"
      },
      "outputs": [
        {
          "output_type": "execute_result",
          "data": {
            "text/plain": [
              "'false news is defined as any information that is false or misleading in character and/or content. <n> pseudo news is defined as any information that is false or misleading in character and/or content.'"
            ],
            "application/vnd.google.colaboratory.intrinsic+json": {
              "type": "string"
            }
          },
          "metadata": {},
          "execution_count": 186
        }
      ],
      "source": [
        "output4"
      ]
    },
    {
      "cell_type": "code",
      "execution_count": null,
      "metadata": {
        "colab": {
          "base_uri": "https://localhost:8080/"
        },
        "id": "j5LW_rmJrvdy",
        "outputId": "6af28841-bb3b-4cab-cb00-4965d64c622b"
      },
      "outputs": [
        {
          "output_type": "execute_result",
          "data": {
            "text/plain": [
              "[{'rouge-1': {'r': 0.07407407407407407, 'p': 0.125, 'f': 0.09302325114115761},\n",
              "  'rouge-2': {'r': 0.0, 'p': 0.0, 'f': 0.0},\n",
              "  'rouge-l': {'r': 0.07407407407407407, 'p': 0.125, 'f': 0.09302325114115761}}]"
            ]
          },
          "metadata": {},
          "execution_count": 187
        }
      ],
      "source": [
        "rouge = Rouge()\n",
        "rouge.get_scores(output4, reference41)"
      ]
    },
    {
      "cell_type": "code",
      "execution_count": null,
      "metadata": {
        "colab": {
          "base_uri": "https://localhost:8080/"
        },
        "id": "R1xCfmI9BQNf",
        "outputId": "603c4f3f-e35c-4281-c4bd-018b6fc4e9ba"
      },
      "outputs": [
        {
          "output_type": "stream",
          "name": "stdout",
          "text": [
            "BLEU SCORE: 4.278349349361757e-155\n"
          ]
        },
        {
          "output_type": "stream",
          "name": "stderr",
          "text": [
            "/usr/local/lib/python3.7/dist-packages/nltk/translate/bleu_score.py:552: UserWarning: \n",
            "The hypothesis contains 0 counts of 3-gram overlaps.\n",
            "Therefore the BLEU score evaluates to 0, independently of\n",
            "how many N-gram overlaps of lower order it contains.\n",
            "Consider using lower n-gram order or use SmoothingFunction()\n",
            "  warnings.warn(_msg)\n",
            "/usr/local/lib/python3.7/dist-packages/nltk/translate/bleu_score.py:552: UserWarning: \n",
            "The hypothesis contains 0 counts of 4-gram overlaps.\n",
            "Therefore the BLEU score evaluates to 0, independently of\n",
            "how many N-gram overlaps of lower order it contains.\n",
            "Consider using lower n-gram order or use SmoothingFunction()\n",
            "  warnings.warn(_msg)\n"
          ]
        }
      ],
      "source": [
        "reference_4 = [\n",
        "    reference42.split(),\n",
        "    reference43.split()\n",
        "]\n",
        "from nltk.translate.bleu_score import corpus_bleu\n",
        "summary_4=output4.split()\n",
        "score = sentence_bleu(reference_4, summary_4)\n",
        "print(\"BLEU SCORE:\",score)"
      ]
    },
    {
      "cell_type": "markdown",
      "metadata": {
        "id": "OBW1yzWCrj2Y"
      },
      "source": [
        "##Sample 5"
      ]
    },
    {
      "cell_type": "code",
      "execution_count": null,
      "metadata": {
        "id": "PrY7z3eFrwD1"
      },
      "outputs": [],
      "source": [
        "#Sample 5: A review of microscopic analysis of blood cells for disease detection with AI perspective\n",
        "text5 = \"\"\"\n",
        "Blood, the most integral part of the body, is constituted of white blood cells (WBC), red blood cells (RBC), platelets, and plasma. \n",
        "This can be further categorized as; cells and platelets are about 45% of human blood, whereas the remaining 55% is filled by plasma (the yellow fluid in the blood). \n",
        "These components and their physical properties like size, shape, color, and count in the whole blood change due to ingress of any foreign object or micro-organism can lead to any sort of infections.\n",
        "\n",
        "There are different pathological procedures for the detection of diseases. In most cases, microscopic imaging plays a vital role in predicting and detecting abnormalities and occurrences of diseases within the body. \n",
        "Typically, the health of any person is judged by analyzing different features of blood cells and their counts.\n",
        "\n",
        "\"\"\""
      ]
    },
    {
      "cell_type": "code",
      "execution_count": null,
      "metadata": {
        "id": "A0L4Mr1VrwIV"
      },
      "outputs": [],
      "source": [
        "preprocess_text5=text5.strip().replace(\"\\n\",\"\")"
      ]
    },
    {
      "cell_type": "code",
      "execution_count": null,
      "metadata": {
        "colab": {
          "base_uri": "https://localhost:8080/"
        },
        "id": "PcDHtqFjstYG",
        "outputId": "18fb54d2-ee2e-4053-ce91-10192366ac82"
      },
      "outputs": [
        {
          "output_type": "stream",
          "name": "stdout",
          "text": [
            "Blood, the most integral part of the body, is constituted of white blood cells (WBC), red blood cells (RBC), platelets, and plasma. Typically, the health of any person is judged by analyzing different features of blood cells and their counts.\n"
          ]
        }
      ],
      "source": [
        "summary5=model(preprocess_text5)\n",
        "print(summary5)"
      ]
    },
    {
      "cell_type": "code",
      "execution_count": null,
      "metadata": {
        "id": "utOkgdc1stbp"
      },
      "outputs": [],
      "source": [
        "tokens5=tokenizer(summary5, truncation=True, padding=\"longest\", return_tensors=\"pt\")"
      ]
    },
    {
      "cell_type": "code",
      "execution_count": null,
      "metadata": {
        "id": "2JPsGGONstjf"
      },
      "outputs": [],
      "source": [
        "summary52=model2.generate(**tokens5,max_length=100)"
      ]
    },
    {
      "cell_type": "code",
      "execution_count": null,
      "metadata": {
        "id": "cioiKwTEtPA4"
      },
      "outputs": [],
      "source": [
        "output5=tokenizer.decode(summary52[0])"
      ]
    },
    {
      "cell_type": "code",
      "execution_count": null,
      "metadata": {
        "colab": {
          "base_uri": "https://localhost:8080/",
          "height": 54
        },
        "id": "QwX9foQOtPJn",
        "outputId": "1a1f9295-76a2-4c18-814e-5dbea673bcca"
      },
      "outputs": [
        {
          "output_type": "execute_result",
          "data": {
            "text/plain": [
              "'the term erythrocyte sedimentation rate ( esr ) is derived from the greek erythrocyte sedimentation rate ( esr ) meaning erythrocyte sedimentation rate. <n> esr is the rate of sedimentation of erythrocytes. <n> esr is the rate of sedimentation of red blood cells, white blood cells, and plasma platelets. <n> the term platelet is derived from the greek platelet'"
            ],
            "application/vnd.google.colaboratory.intrinsic+json": {
              "type": "string"
            }
          },
          "metadata": {},
          "execution_count": 195
        }
      ],
      "source": [
        "output5"
      ]
    },
    {
      "cell_type": "code",
      "execution_count": null,
      "metadata": {
        "id": "79GM1aRPtPTH"
      },
      "outputs": [],
      "source": []
    },
    {
      "cell_type": "code",
      "execution_count": null,
      "metadata": {
        "colab": {
          "base_uri": "https://localhost:8080/"
        },
        "id": "4ZbA8kKjrwNp",
        "outputId": "b92067a4-7035-4c12-8f90-b65c95b4b1a7"
      },
      "outputs": [
        {
          "output_type": "execute_result",
          "data": {
            "text/plain": [
              "[{'rouge-1': {'r': 0.12195121951219512,\n",
              "   'p': 0.20833333333333334,\n",
              "   'f': 0.1538461491881658},\n",
              "  'rouge-2': {'r': 0.0, 'p': 0.0, 'f': 0.0},\n",
              "  'rouge-l': {'r': 0.12195121951219512,\n",
              "   'p': 0.20833333333333334,\n",
              "   'f': 0.1538461491881658}}]"
            ]
          },
          "metadata": {},
          "execution_count": 196
        }
      ],
      "source": [
        "reference5 =\"There are different pathological procedures for the detection of diseases. Typically, the health of any person is judged by analyzing different features of blood cells and their counts. In most cases, microscopic imaging plays a vital role in predicting and detecting abnormalities and occurrences of diseases within the body. \"\n",
        "rouge = Rouge()\n",
        "rouge.get_scores(output5, reference5)"
      ]
    },
    {
      "cell_type": "markdown",
      "metadata": {
        "id": "xzLyGDXrrlJ8"
      },
      "source": [
        "##Sample 6"
      ]
    },
    {
      "cell_type": "code",
      "execution_count": null,
      "metadata": {
        "id": "aiJoVSmzrwxS"
      },
      "outputs": [],
      "source": [
        "#Sample 6: On Context Awareness for Multisensor Data Fusion in IoT\n",
        "text6 = \"\"\"\n",
        "The concept of the internet of things (IoT) originated in the Auto-ID Center at the Massachusetts Institute of Technology in 1999.\n",
        "Kevin Ashton had imagined a world in which all electronic devices are networked and every object, whether physical or electronic, is electronically tagged with information applicable to that object.\n",
        "The underlying aim of this concept is the achievement of pervasive connections between the internet and objects around us. \n",
        "It is perfect assimilation of real-world objects with logical things.\n",
        "Multi-sensor data fusion system is analogous to human who can sense the environment with the help of their sensory organs like nose, ears, skin, etc. and make correct inferences about their surroundings.\n",
        "Multisensor data fusion refers to the comprehensive fusing of sensory data from multiple sensors and related information in order to provide more reliable and accurate information that could be achieved using a single, independent sensor.\n",
        "Sensor fusion technology was primarily developed for Military surveillance research and robotics by US DoD. \n",
        "Later, it has got commercially wider acceptance in the areas, such as intelligent transport system, geographic information, land and ocean surveillance, robotics, data and information security, medical surveillance, diagnosis, etc.\n",
        " The only way to gain the required amount of information with the expected intelligence is viable with the help of multisensors data fusion approach.\n",
        "\n",
        "\"\"\""
      ]
    },
    {
      "cell_type": "code",
      "execution_count": null,
      "metadata": {
        "id": "Bpa5sqgZs3Wf"
      },
      "outputs": [],
      "source": [
        "preprocess_text6=text6.strip().replace(\"\\n\",\"\")"
      ]
    },
    {
      "cell_type": "code",
      "execution_count": null,
      "metadata": {
        "colab": {
          "base_uri": "https://localhost:8080/"
        },
        "id": "hGbEkRG_s38r",
        "outputId": "d26d73a7-598a-4402-9de1-3e003f6dcf79"
      },
      "outputs": [
        {
          "output_type": "stream",
          "name": "stdout",
          "text": [
            "The concept of the internet of things (IoT) originated in the Auto-ID Center at the Massachusetts Institute of Technology in 1999.Kevin Ashton had imagined a world in which all electronic devices are networked and every object, whether physical or electronic, is electronically tagged with information applicable to that object. The only way to gain the required amount of information with the expected intelligence is viable with the help of multisensors data fusion approach.\n"
          ]
        }
      ],
      "source": [
        "summary6=model(preprocess_text6)\n",
        "print(summary6)"
      ]
    },
    {
      "cell_type": "code",
      "execution_count": null,
      "metadata": {
        "id": "8WGcsxTirw0r"
      },
      "outputs": [],
      "source": [
        "tokens6=tokenizer(summary6, truncation=True, padding=\"longest\", return_tensors=\"pt\")"
      ]
    },
    {
      "cell_type": "code",
      "execution_count": null,
      "metadata": {
        "id": "fwDgzFkdtI1r"
      },
      "outputs": [],
      "source": [
        "summary62=model2.generate(**tokens6,max_length=100)"
      ]
    },
    {
      "cell_type": "code",
      "execution_count": null,
      "metadata": {
        "id": "Krq1dS4QtI5b"
      },
      "outputs": [],
      "source": [
        "output6=tokenizer.decode(summary62[0])"
      ]
    },
    {
      "cell_type": "code",
      "execution_count": null,
      "metadata": {
        "colab": {
          "base_uri": "https://localhost:8080/",
          "height": 54
        },
        "id": "ElrWtP76tVoJ",
        "outputId": "b98fa14a-4222-46c3-cf41-759f9d30d87b"
      },
      "outputs": [
        {
          "output_type": "execute_result",
          "data": {
            "text/plain": [
              "'in the recent years, there has been a great deal of interest in the development of information communication technology ( ict ). <n> one of the most widely used ict technologies is 802.15.4, which is known as the internet of things ( iot ). in this article <n>, we would like to introduce a new concept of iot, called multisensor. <n> multisensor is defined as two or more'"
            ],
            "application/vnd.google.colaboratory.intrinsic+json": {
              "type": "string"
            }
          },
          "metadata": {},
          "execution_count": 203
        }
      ],
      "source": [
        "output6"
      ]
    },
    {
      "cell_type": "code",
      "execution_count": null,
      "metadata": {
        "id": "WArrLmTEtWAx"
      },
      "outputs": [],
      "source": []
    },
    {
      "cell_type": "code",
      "execution_count": null,
      "metadata": {
        "colab": {
          "base_uri": "https://localhost:8080/"
        },
        "id": "j5TIu2mbrw5N",
        "outputId": "fce509f0-766c-4510-e3f9-903917129383"
      },
      "outputs": [
        {
          "output_type": "execute_result",
          "data": {
            "text/plain": [
              "[{'rouge-1': {'r': 0.175, 'p': 0.1346153846153846, 'f': 0.15217390812854456},\n",
              "  'rouge-2': {'r': 0.0851063829787234,\n",
              "   'p': 0.058823529411764705,\n",
              "   'f': 0.06956521255803437},\n",
              "  'rouge-l': {'r': 0.175, 'p': 0.1346153846153846, 'f': 0.15217390812854456}}]"
            ]
          },
          "metadata": {},
          "execution_count": 204
        }
      ],
      "source": [
        "reference6 =\"The aim of the internet of things is to achieve pervasive connections between the internet and objects around us. Multisensor data fusion refers to the comprehensive fusing of sensory data from multiple sensors. Sensor fusion technology was primarily developed for Military surveillance research and robotics by US DoD. \"\n",
        "rouge = Rouge()\n",
        "rouge.get_scores(output6, reference6)"
      ]
    },
    {
      "cell_type": "markdown",
      "metadata": {
        "id": "rssDUWKHrlPa"
      },
      "source": [
        "##Sample 7"
      ]
    },
    {
      "cell_type": "code",
      "execution_count": null,
      "metadata": {
        "id": "uUvKoRrLruk7"
      },
      "outputs": [],
      "source": [
        "#sample 7: Fake News Detector: FND\n",
        "\n",
        "text7='''\n",
        "Fake news can be defined as a pseudo-news or junk news which is false information or content spread via different broadcasting media.\n",
        "This false information is mainly created to mislead people or to cause ravage to a person, organization, etc., or to gain financial benefits. \n",
        "Easier ways to get news nowadays are from sources like media outlets, newspapers, journalists where they follow defined strict codes of practice; this is the traditional method. \n",
        "But the increase in internet network has changed the certain aspect of publishing and sharing the news and information with less editorial standards and regulations.\n",
        "On the other hand, the news is being manipulated by various networking sites based on personal opinions or interests.\n",
        "Fake news causes immense damage in different ways such as misleading people with sharing false information, this can create racists ideas or can damage people’s sentiments, which can give rise to violence among people i.e. causing real-life impacts, etc. \n",
        "This rapid spread of fake news is a serious problem calling for AI solutions. To overcome this, the system is developed which identifies the news authenticity and identifies it as Fake News or Real News. \n",
        "This is done by analyzing the news content where analysis is done on the basis of defined parameters. \n",
        "In the proposed system the user directly enters the data or the news content (news headlines) and enters into the systems search bar and gets the result. \n",
        "The proposed system works upon the two main algorithms i.e. Naive Bayes algorithm and TFIDF algorithm. The defined parameters help to identify the news content and increases the accuracy of the system. \n",
        "Parameters considered are website data, website validates, the similarity of content, timestamps, reviews, and grammatical analysis. \n",
        "These parameters calculate the news authenticity and generate the final result as fake or real news.\n",
        "'''"
      ]
    },
    {
      "cell_type": "code",
      "execution_count": null,
      "metadata": {
        "id": "Br5pSYF8run0"
      },
      "outputs": [],
      "source": [
        "preprocess_text7=text7.strip().replace(\"\\n\",\"\")"
      ]
    },
    {
      "cell_type": "code",
      "execution_count": null,
      "metadata": {
        "id": "EgaqiyWCrurJ"
      },
      "outputs": [],
      "source": [
        "summary7=model(preprocess_text7)\n",
        "print(summary7)"
      ]
    },
    {
      "cell_type": "code",
      "execution_count": null,
      "metadata": {
        "id": "GuSL8GWfrut0"
      },
      "outputs": [],
      "source": [
        "tokens7=tokenizer(summary7, truncation=True, padding=\"longest\", return_tensors=\"pt\")"
      ]
    },
    {
      "cell_type": "code",
      "execution_count": null,
      "metadata": {
        "id": "O5PwO-E3tJu3"
      },
      "outputs": [],
      "source": [
        "summary72=model2.generate(**tokens7,max_length=100)"
      ]
    },
    {
      "cell_type": "code",
      "execution_count": null,
      "metadata": {
        "id": "UuxyIiYBtJy3"
      },
      "outputs": [],
      "source": [
        "output7=tokenizer.decode(summary72[0])"
      ]
    },
    {
      "cell_type": "code",
      "execution_count": null,
      "metadata": {
        "id": "Izu22UI9tXCu"
      },
      "outputs": [],
      "source": [
        "output7"
      ]
    },
    {
      "cell_type": "code",
      "execution_count": null,
      "metadata": {
        "id": "Yge0sAyBtXM_"
      },
      "outputs": [],
      "source": []
    },
    {
      "cell_type": "code",
      "execution_count": null,
      "metadata": {
        "id": "HTDEbodCruz8"
      },
      "outputs": [],
      "source": [
        "reference7 =\"Parameters including websites data, website validates, similarity of content, timestamps, reviews, and grammarical analysis calculate the authenticity of the news using the Naive Bayes and TFIDF algorithms that increase accuracy of the system.\"\n",
        "rouge = Rouge()\n",
        "rouge.get_scores(output7, reference7)"
      ]
    },
    {
      "cell_type": "markdown",
      "metadata": {
        "id": "qE03s5ozrlS1"
      },
      "source": [
        "##Sample8"
      ]
    },
    {
      "cell_type": "code",
      "execution_count": null,
      "metadata": {
        "id": "DgknCtc9rt8Q"
      },
      "outputs": [],
      "source": [
        "#Sample 8: Iris Liveness Detection for Biometric Authentication: A Systematic Literature Review and Future Directions\n",
        "\n",
        "text8='''\n",
        "During the primeval eras, there were restricted choices and ways for personal iden- tification. \n",
        "Nowadays, we have an era of computer vision and biometrics, which does not involve any external artifact or token to recognize others. \n",
        "Instead, individuals can be acknowledged with their own biological or behavioral features with the aid of biometrics as an alternative to their associations, possessions, or any secret information.\n",
        "The necessity of mechanized and precise identification directed us to biometrics, which controls technology to accelerate the course of human identification and authentication. \n",
        "The biometric ID has been originated and replaced the printed IDs. This allows you to verify your identity, deprived of carrying any card or document (www.bayometric.com (accessed on 4 August 2021)). \n",
        "The authentication is a vital stage for offering admittance to the resources to the approved individuals. \n",
        "Conventional authentication systems such as a pin, card, and password cannot differentiate between real users and imposters who have fraudulently accessed the system.\n",
        " There are many possibilities of forgetting the password/pin or stealing and misplacement of the card. The device that allows the automatic identification of an individual is known as a biometric system. \n",
        " The biometric authentication system is easy to use, and there is no need to remember a password, card, and pin code.\n",
        "Biometrics have been extensively discovered for their automation, approachability, and accuracy with the mounting security needs of our everyday lives. \n",
        "It is a mechanized device that studies human beings’ physiological and behavioral features for their unique classification as the technology has differentiated from detection to criminal identifications and forensics.\n",
        "There are several diverse markets of biometric technology which exist today. Most of the markets appear to be mounting swiftly. \n",
        "The global biometric technologies market is anticipated to reach 19.08 billion US dollars in 2021, while the contactless biometric technologies market is predicted to grow to over 30.15 billion US dollars by 2027 (www. statista.com (accessed on 4 August 2021)).\n",
        " Biometrics have been successfully deployed in a variety of applications where security is of primary concern. \n",
        " \n",
        " For example, airport check-in and check-out personal identification cards [3]; sensitive information from unauthorized users, and credit card authentication.\n",
        "Several biometric characteristics such as the fingerprint, iris, palm print, and the face, are used for authentication and recognition.\n",
        " As compared to fingerprint and face, the iris-based authentication provides stronger contactless identification of the user. \n",
        " Table 1 displays various applications domains for iris biometric detection. The contactless approach helps to prevent the spread of viruses and diseases such as COVID-19. \n",
        " Iris has complex textures and unique features, so it is widely used in identifying and authentication the person in many applications. \n",
        " Aadhar project uses the biometric system to identify the citizens of India, Amsterdam airport, and the US Canadian border. Even though the iris has a unique texture pattern, there is a possibility of spoofing by the imposter. People attack the biometric device to obtain the rights of others.\n",
        "Iris detection systems can be easily spoofed by using different types of contact lens such as transparent lenses, colored lenses, and textured lenses.\n",
        " By using the transparent lenses, the fraudster cannot alter the iris texture but can modify the reflection property of the Iris recognition system. \n",
        " An imposter can conceal the real texture of an Iris with the aid of textured color lenses. The system can also be rapidly spoofed by replaying a video as well as a print attack. \n",
        " This means the iris pattern is acquainted with the machine by printing an iris image. Print attacks are performed in two modes:. \n",
        " First is print and scan, in which the high-quality printed iris pattern is scanned, and second is print and capture, in which the scanner takes the snapshot. \n",
        " Due to vulnerabilities in traditional security systems that lead to frequent security breaches, biometrics is increasingly becoming important.\n",
        "  Thus, ILD for biometric authentication is a significant research area.\n",
        "'''"
      ]
    },
    {
      "cell_type": "code",
      "execution_count": null,
      "metadata": {
        "id": "7NDYxepwrt_f"
      },
      "outputs": [],
      "source": [
        "preprocess_text8=text8.strip().replace(\"\\n\",\"\")"
      ]
    },
    {
      "cell_type": "code",
      "execution_count": null,
      "metadata": {
        "id": "-pR_V5pMruBw"
      },
      "outputs": [],
      "source": [
        "summary8=model(preprocess_text8)\n",
        "print(summary8)"
      ]
    },
    {
      "cell_type": "code",
      "execution_count": null,
      "metadata": {
        "id": "w0Wtnc7Rs11X"
      },
      "outputs": [],
      "source": [
        "tokens8=tokenizer(summary8, truncation=True, padding=\"longest\", return_tensors=\"pt\")"
      ]
    },
    {
      "cell_type": "code",
      "execution_count": null,
      "metadata": {
        "id": "wTArN25os17b"
      },
      "outputs": [],
      "source": [
        "summary82=model2.generate(**tokens8,max_length=100)"
      ]
    },
    {
      "cell_type": "code",
      "execution_count": null,
      "metadata": {
        "id": "Po9a2BBvtRb7"
      },
      "outputs": [],
      "source": [
        "output8=tokenizer.decode(summary82[0])"
      ]
    },
    {
      "cell_type": "code",
      "execution_count": null,
      "metadata": {
        "id": "Ij4uNCpxtYLs"
      },
      "outputs": [],
      "source": [
        "output8"
      ]
    },
    {
      "cell_type": "code",
      "execution_count": null,
      "metadata": {
        "id": "HXUfetDYruGI"
      },
      "outputs": [],
      "source": [
        "reference8 =\"Biometrics is a mechanized device that studies human beings' physiological and behavioral features for their unique classification as the technology has differentiated from detection to criminal identifications and forensics. The biometric authentication system is easy to use, and there is no need to remember a password, card, and pin code.\"\n",
        "rouge.get_scores(output8, reference8)"
      ]
    }
  ],
  "metadata": {
    "colab": {
      "provenance": [],
      "collapsed_sections": []
    },
    "kernelspec": {
      "display_name": "Python 3",
      "name": "python3"
    },
    "language_info": {
      "name": "python"
    }
  },
  "nbformat": 4,
  "nbformat_minor": 0
}