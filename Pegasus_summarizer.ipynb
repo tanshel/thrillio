{
  "cells": [
    {
      "cell_type": "markdown",
      "metadata": {
        "id": "nS-ueeEGBZYn"
      },
      "source": [
        "Install Pytorch"
      ]
    },
    {
      "cell_type": "code",
      "execution_count": null,
      "metadata": {
        "id": "R7St3P01AwJK"
      },
      "outputs": [],
      "source": [
        "#!pip3 install torch==1.8.2 torchvision==0.9.2 torchaudio===0.8.2 --extra-index-url https://download.pytorch.org/whl/lts/1.8/cu111"
      ]
    },
    {
      "cell_type": "markdown",
      "metadata": {
        "id": "ZT05t27TBc7b"
      },
      "source": [
        "Install HuggingFace Transformers"
      ]
    },
    {
      "cell_type": "code",
      "execution_count": null,
      "metadata": {
        "colab": {
          "base_uri": "https://localhost:8080/"
        },
        "id": "Dpz0GwZAJbLa",
        "outputId": "abe48065-dcf1-44eb-d9ff-f6442e814754"
      },
      "outputs": [
        {
          "output_type": "stream",
          "name": "stdout",
          "text": [
            "Looking in indexes: https://pypi.org/simple, https://us-python.pkg.dev/colab-wheels/public/simple/\n",
            "Requirement already satisfied: Sentencepiece in /usr/local/lib/python3.7/dist-packages (0.1.97)\n"
          ]
        }
      ],
      "source": [
        "pip install Sentencepiece\n"
      ]
    },
    {
      "cell_type": "code",
      "execution_count": null,
      "metadata": {
        "colab": {
          "base_uri": "https://localhost:8080/"
        },
        "id": "6Ym7s19lBQDP",
        "outputId": "d2f9b5e4-e7e9-4c15-ff71-eb0c50cf67c4"
      },
      "outputs": [
        {
          "output_type": "stream",
          "name": "stdout",
          "text": [
            "Looking in indexes: https://pypi.org/simple, https://us-python.pkg.dev/colab-wheels/public/simple/\n",
            "Requirement already satisfied: transformers in /usr/local/lib/python3.7/dist-packages (4.24.0)\n",
            "Requirement already satisfied: requests in /usr/local/lib/python3.7/dist-packages (from transformers) (2.23.0)\n",
            "Requirement already satisfied: tokenizers!=0.11.3,<0.14,>=0.11.1 in /usr/local/lib/python3.7/dist-packages (from transformers) (0.13.2)\n",
            "Requirement already satisfied: pyyaml>=5.1 in /usr/local/lib/python3.7/dist-packages (from transformers) (6.0)\n",
            "Requirement already satisfied: importlib-metadata in /usr/local/lib/python3.7/dist-packages (from transformers) (4.13.0)\n",
            "Requirement already satisfied: tqdm>=4.27 in /usr/local/lib/python3.7/dist-packages (from transformers) (4.64.1)\n",
            "Requirement already satisfied: huggingface-hub<1.0,>=0.10.0 in /usr/local/lib/python3.7/dist-packages (from transformers) (0.10.1)\n",
            "Requirement already satisfied: numpy>=1.17 in /usr/local/lib/python3.7/dist-packages (from transformers) (1.21.6)\n",
            "Requirement already satisfied: filelock in /usr/local/lib/python3.7/dist-packages (from transformers) (3.8.0)\n",
            "Requirement already satisfied: packaging>=20.0 in /usr/local/lib/python3.7/dist-packages (from transformers) (21.3)\n",
            "Requirement already satisfied: regex!=2019.12.17 in /usr/local/lib/python3.7/dist-packages (from transformers) (2022.6.2)\n",
            "Requirement already satisfied: typing-extensions>=3.7.4.3 in /usr/local/lib/python3.7/dist-packages (from huggingface-hub<1.0,>=0.10.0->transformers) (4.1.1)\n",
            "Requirement already satisfied: pyparsing!=3.0.5,>=2.0.2 in /usr/local/lib/python3.7/dist-packages (from packaging>=20.0->transformers) (3.0.9)\n",
            "Requirement already satisfied: zipp>=0.5 in /usr/local/lib/python3.7/dist-packages (from importlib-metadata->transformers) (3.10.0)\n",
            "Requirement already satisfied: chardet<4,>=3.0.2 in /usr/local/lib/python3.7/dist-packages (from requests->transformers) (3.0.4)\n",
            "Requirement already satisfied: idna<3,>=2.5 in /usr/local/lib/python3.7/dist-packages (from requests->transformers) (2.10)\n",
            "Requirement already satisfied: urllib3!=1.25.0,!=1.25.1,<1.26,>=1.21.1 in /usr/local/lib/python3.7/dist-packages (from requests->transformers) (1.24.3)\n",
            "Requirement already satisfied: certifi>=2017.4.17 in /usr/local/lib/python3.7/dist-packages (from requests->transformers) (2022.9.24)\n"
          ]
        }
      ],
      "source": [
        "!pip install transformers"
      ]
    },
    {
      "cell_type": "markdown",
      "metadata": {
        "id": "RjhXDfw_GgM-"
      },
      "source": [
        "the implementation of pegasus that we're going to be using is through HuggingFace. HuggingFace is a NLP company that gives access to a whole bunch of open source NLP models that you can use. Google pegasus models are available on it. "
      ]
    },
    {
      "cell_type": "markdown",
      "metadata": {
        "id": "cHVKhPFjHqMP"
      },
      "source": [
        "# Import and Load Model"
      ]
    },
    {
      "cell_type": "code",
      "execution_count": null,
      "metadata": {
        "id": "AxNxFBtUH0Vj"
      },
      "outputs": [],
      "source": [
        "#importing dependencies from transformers\n",
        "from transformers import PegasusForConditionalGeneration, PegasusTokenizer #these are our main dependencies"
      ]
    },
    {
      "cell_type": "code",
      "execution_count": null,
      "metadata": {
        "colab": {
          "base_uri": "https://localhost:8080/"
        },
        "id": "2J7pJEB7H_GX",
        "outputId": "8f79636b-799d-428c-c108-255ea2604758"
      },
      "outputs": [
        {
          "output_type": "stream",
          "name": "stdout",
          "text": [
            "Looking in indexes: https://pypi.org/simple, https://us-python.pkg.dev/colab-wheels/public/simple/\n",
            "Requirement already satisfied: sentencepiece in /usr/local/lib/python3.7/dist-packages (0.1.97)\n"
          ]
        }
      ],
      "source": [
        "#tokenizer will allow us to convert our sentences into a set of tokens. \n",
        "!pip install sentencepiece"
      ]
    },
    {
      "cell_type": "code",
      "execution_count": null,
      "metadata": {
        "id": "FDHcoyZDIPHU",
        "colab": {
          "base_uri": "https://localhost:8080/",
          "height": 145,
          "referenced_widgets": [
            "56d4e0b785184a8aa6af5c6ab6cf193e",
            "a2b27719145744a6b82b0515dedc8363",
            "5978f79ac01e49b7b09fc646b779ed32",
            "de4ecbc052684f13bb9bf4cff0ea9c72",
            "d645778337ba41cf8d1f3fb51f13c4c1",
            "64ce2d48cfc24b3899d70490c9ccddbf",
            "799116d57587473e84d11db233261432",
            "95f382004aa24af8a8bac705e19c09bc",
            "0570d0546d8b40b5a5b7faaff4c28357",
            "4d7ebae5112c4537815eea10160e9178",
            "9d37cf51c0e646f486b52280bee5cc15",
            "65b8730e8ddb4250b58787466a6e3256",
            "91e8f91c74294b829a0f2af85b7e833a",
            "9138ec9bf85a44f7b2d12491a3f8c1ae",
            "069822c83708429fb4a059214a6c9730",
            "d9b460917ccd4725b7243d84b1cec456",
            "b47f1d0c82694c1a9ba47be4e1d5cf1c",
            "228a2eebd2334d87aa332aab715fa67b",
            "4ec33ca15c534e6f863d9118a65222db",
            "8dc24dfc523b4f078a7922dff3f09c76",
            "f2409e8ed1f34add951218b25ddf103e",
            "60642eb44c1a48d499e99538d154bc45",
            "8f6efb5c721b4a8ab88a823202792d06",
            "334847e4ca7f4297b10dc851bda21e2e",
            "4e6c4ad808ed4a8399c5afd33195ea19",
            "26d71d2c03e14792a79c9d1fac8c7744",
            "feafbcd9bc3a445ea7d42602ee8f10a9",
            "0b880af367de410895191d8c32ed6d8e",
            "c1cb7fa53db8473abc512b6c900a9fe2",
            "91cd308dc0214ba3bb2d08da2ce44404",
            "77afde269d9a4c918f704de42875d4a9",
            "c9a8917de7fc43b6abab91c3c6d1bb37",
            "a0828c7c95364c27b569808bc0190304",
            "bea4f22a72e341d69608b53f655c7de3",
            "bf5f3cefc99448a5a9a2a40298890d9f",
            "548fc1c97b1042b88db2ff09deb9f456",
            "78dbd7003d7040e5960014bcb2f68b7b",
            "63fadf5cb96c44a38f00f638d5516f95",
            "c87bc1830fbb4a63ab0e7ad4923225d6",
            "98822772fa184542a1f8c909ed348f64",
            "8e0fc1bff2074fdea19e6d744887ec33",
            "24c8295e53d34d7e8377e50c2ad3e39a",
            "2e214c966b24496e906d4b3a4632ff9e",
            "22c8ec9b8ec9459ebefe520e434ebedc"
          ]
        },
        "outputId": "ffd8b67a-96e1-49e6-9467-0ae5c89bc550"
      },
      "outputs": [
        {
          "output_type": "display_data",
          "data": {
            "text/plain": [
              "Downloading:   0%|          | 0.00/1.91M [00:00<?, ?B/s]"
            ],
            "application/vnd.jupyter.widget-view+json": {
              "version_major": 2,
              "version_minor": 0,
              "model_id": "56d4e0b785184a8aa6af5c6ab6cf193e"
            }
          },
          "metadata": {}
        },
        {
          "output_type": "display_data",
          "data": {
            "text/plain": [
              "Downloading:   0%|          | 0.00/65.0 [00:00<?, ?B/s]"
            ],
            "application/vnd.jupyter.widget-view+json": {
              "version_major": 2,
              "version_minor": 0,
              "model_id": "65b8730e8ddb4250b58787466a6e3256"
            }
          },
          "metadata": {}
        },
        {
          "output_type": "display_data",
          "data": {
            "text/plain": [
              "Downloading:   0%|          | 0.00/88.0 [00:00<?, ?B/s]"
            ],
            "application/vnd.jupyter.widget-view+json": {
              "version_major": 2,
              "version_minor": 0,
              "model_id": "8f6efb5c721b4a8ab88a823202792d06"
            }
          },
          "metadata": {}
        },
        {
          "output_type": "display_data",
          "data": {
            "text/plain": [
              "Downloading:   0%|          | 0.00/1.12k [00:00<?, ?B/s]"
            ],
            "application/vnd.jupyter.widget-view+json": {
              "version_major": 2,
              "version_minor": 0,
              "model_id": "bea4f22a72e341d69608b53f655c7de3"
            }
          },
          "metadata": {}
        }
      ],
      "source": [
        "tokenizer = PegasusTokenizer.from_pretrained(\"google/pegasus-pubmed\")"
      ]
    },
    {
      "cell_type": "code",
      "execution_count": null,
      "metadata": {
        "id": "2FU4c0dhIeze",
        "colab": {
          "base_uri": "https://localhost:8080/",
          "height": 49,
          "referenced_widgets": [
            "eb227000ce174e07be1578d23eb05a0f",
            "daf933ef8a4642caa813264efdc139d6",
            "44090826ae724dffafa3709429746b1c",
            "74525e4f35a84e7fb883a61359844f82",
            "124a2fa7a0a34d429a3f20922498cbfb",
            "03a3cab1edd24693bb2f2210d8bdb757",
            "8f09afe7c9a94d7c806b919dd648d2f5",
            "36bbee1a49d44da6be42fe6f18aa6f16",
            "9c10683cd9ef4982be6a5352544b7cba",
            "35e5088d542b48dabee2c1c953a618d2",
            "bf06596005934fce8f7e0c7314d8271b"
          ]
        },
        "outputId": "47ae5168-12b2-4844-b6dc-96f354993c03"
      },
      "outputs": [
        {
          "output_type": "display_data",
          "data": {
            "text/plain": [
              "Downloading:   0%|          | 0.00/2.28G [00:00<?, ?B/s]"
            ],
            "application/vnd.jupyter.widget-view+json": {
              "version_major": 2,
              "version_minor": 0,
              "model_id": "eb227000ce174e07be1578d23eb05a0f"
            }
          },
          "metadata": {}
        }
      ],
      "source": [
        "#Load model\n",
        "model=PegasusForConditionalGeneration.from_pretrained(\"google/pegasus-pubmed\")"
      ]
    },
    {
      "cell_type": "code",
      "source": [
        "pip install nltk"
      ],
      "metadata": {
        "colab": {
          "base_uri": "https://localhost:8080/"
        },
        "id": "bXu3ETiNZPEu",
        "outputId": "3c19905a-efa6-4e3e-f0fc-19d7aaea4711"
      },
      "execution_count": null,
      "outputs": [
        {
          "output_type": "stream",
          "name": "stdout",
          "text": [
            "Looking in indexes: https://pypi.org/simple, https://us-python.pkg.dev/colab-wheels/public/simple/\n",
            "Requirement already satisfied: nltk in /usr/local/lib/python3.7/dist-packages (3.7)\n",
            "Requirement already satisfied: regex>=2021.8.3 in /usr/local/lib/python3.7/dist-packages (from nltk) (2022.6.2)\n",
            "Requirement already satisfied: click in /usr/local/lib/python3.7/dist-packages (from nltk) (7.1.2)\n",
            "Requirement already satisfied: joblib in /usr/local/lib/python3.7/dist-packages (from nltk) (1.2.0)\n",
            "Requirement already satisfied: tqdm in /usr/local/lib/python3.7/dist-packages (from nltk) (4.64.1)\n"
          ]
        }
      ]
    },
    {
      "cell_type": "code",
      "source": [
        "import pandas as pd"
      ],
      "metadata": {
        "id": "7yILe13bFNJI"
      },
      "execution_count": null,
      "outputs": []
    },
    {
      "cell_type": "code",
      "source": [
        "df=pd.read_csv(\"/content/papers1 - Sheet1.csv\")"
      ],
      "metadata": {
        "id": "PmmZWGsKFNOU"
      },
      "execution_count": null,
      "outputs": []
    },
    {
      "cell_type": "code",
      "source": [
        "reference11=df['Ref 1'][0]\n",
        "reference21=df['Ref 1'][1]\n",
        "reference31=df['Ref 1'][2]\n",
        "reference41=df['Ref 1'][3]\n",
        "#print(reference11, reference21, reference31, reference41)"
      ],
      "metadata": {
        "id": "iLIPACEa-jYP"
      },
      "execution_count": null,
      "outputs": []
    },
    {
      "cell_type": "code",
      "source": [
        "text1=df['INTRODUCTION'][0]\n",
        "text2=df['INTRODUCTION'][1]\n",
        "text3=df['INTRODUCTION'][2]\n",
        "text4=df['INTRODUCTION'][3]\n"
      ],
      "metadata": {
        "id": "3B-byrbQ-jaw"
      },
      "execution_count": null,
      "outputs": []
    },
    {
      "cell_type": "code",
      "source": [
        "reference12=df['Ref 2'][0]\n",
        "reference22=df['Ref 2'][1]\n",
        "reference32=df['Ref 2'][2]\n",
        "reference42=df['Ref 2'][3]"
      ],
      "metadata": {
        "id": "lGXXpJnS-jd0"
      },
      "execution_count": null,
      "outputs": []
    },
    {
      "cell_type": "code",
      "source": [
        "reference13=df['Ref 3'][0]\n",
        "reference23=df['Ref 3'][1]\n",
        "reference33=df['Ref 3'][2]\n",
        "reference43=df['Ref 3'][3]"
      ],
      "metadata": {
        "id": "9Nc384u5_io4"
      },
      "execution_count": null,
      "outputs": []
    },
    {
      "cell_type": "markdown",
      "metadata": {
        "id": "UH8KXBgzKoG0"
      },
      "source": [
        "#Perform Abstractive Summarization"
      ]
    },
    {
      "cell_type": "markdown",
      "source": [
        "##Sample1"
      ],
      "metadata": {
        "id": "_r6EMD7rJtAO"
      }
    },
    {
      "cell_type": "code",
      "execution_count": null,
      "metadata": {
        "id": "fACMT64yKW-G",
        "colab": {
          "base_uri": "https://localhost:8080/",
          "height": 106
        },
        "outputId": "20f6aa10-0f77-43ed-8a9a-e0b2010b55dc"
      },
      "outputs": [
        {
          "output_type": "execute_result",
          "data": {
            "text/plain": [
              "'Machine learning can be defined as the data which is obtained by knowledge extraction. Machines don‟t have to be programmed explicitly instead they are trained to make decisions that are driven by data. Instead of writing a code for every specific problem, data is provided to the generic algorithms and logic is developed on the basis of that data. When a machine improves its performance based on its past experiences it can be said that machine has truly learnt. The technique for most accurate prediction is by learning from past instances, and to make a program to do this is best possible with machine learning techniques. Any machine learning technique (supervised or unsupervised) is efficient enough to generate rules for programs, in consideration with present ones to take a better decision. In this scenario, the decision is whether the stock will increase or decrease (Stock analysis).'"
            ],
            "application/vnd.google.colaboratory.intrinsic+json": {
              "type": "string"
            }
          },
          "metadata": {},
          "execution_count": 17
        }
      ],
      "source": [
        "#abstract from https://asp-eurasipjournals.springeropen.com/articles/10.1186/s13634-016-0355-x\n",
        "text1"
      ]
    },
    {
      "cell_type": "code",
      "execution_count": null,
      "metadata": {
        "id": "5BjHmv5FLNMt"
      },
      "outputs": [],
      "source": [
        "#create tokens-- number representation of our text\n",
        "tokens1=tokenizer(text1, truncation=True, padding=\"longest\", return_tensors=\"pt\")\n"
      ]
    },
    {
      "cell_type": "code",
      "execution_count": null,
      "metadata": {
        "colab": {
          "base_uri": "https://localhost:8080/"
        },
        "id": "xMt6zqGbLkfN",
        "outputId": "e2ffa9b6-b4ad-4936-df92-30dfe135c4e0"
      },
      "outputs": [
        {
          "output_type": "execute_result",
          "data": {
            "text/plain": [
              "{'input_ids': tensor([[ 3838,   761,   137,   129,  3365,   130,   109,   335,   162,   117,\n",
              "          3686,   141,   825,  9463,   107, 17607,   272,   105,   144,   133,\n",
              "           112,   129, 17322, 13193,  1088,   157,   127,  2492,   112,   193,\n",
              "          1993,   120,   127,  3830,   141,   335,   107,  3054,   113,   724,\n",
              "           114,   929,   118,   290,   739,   575,   108,   335,   117,   735,\n",
              "           112,   109,  5511,  8970,   111,  6936,   117,  1184,   124,   109,\n",
              "          1444,   113,   120,   335,   107,   434,   114,  1157,  7997,   203,\n",
              "           637,   451,   124,   203,   555,  1747,   126,   137,   129,   243,\n",
              "           120,  1157,   148,  1388, 10475,   107,   139,  3111,   118,   205,\n",
              "          2598, 11955,   117,   141,   761,   135,   555,  6636,   108,   111,\n",
              "           112,   193,   114,   431,   112,   171,   136,   117,   229,   433,\n",
              "           122,  1157,   761,  1739,   107,  2533,  1157,   761,  3111,   143,\n",
              "         83465,   132, 53744,   158,   117,  1882,   505,   112,  3210,  1696,\n",
              "           118,   962,   108,   115,  3725,   122,   799,  1304,   112,   248,\n",
              "           114,   340,  1057,   107,   222,   136,  5187,   108,   109,  1057,\n",
              "           117,   682,   109,  1279,   138,   815,   132,  5148,   143, 21199,\n",
              "          1382,   250,     1]]), 'attention_mask': tensor([[1, 1, 1, 1, 1, 1, 1, 1, 1, 1, 1, 1, 1, 1, 1, 1, 1, 1, 1, 1, 1, 1, 1, 1,\n",
              "         1, 1, 1, 1, 1, 1, 1, 1, 1, 1, 1, 1, 1, 1, 1, 1, 1, 1, 1, 1, 1, 1, 1, 1,\n",
              "         1, 1, 1, 1, 1, 1, 1, 1, 1, 1, 1, 1, 1, 1, 1, 1, 1, 1, 1, 1, 1, 1, 1, 1,\n",
              "         1, 1, 1, 1, 1, 1, 1, 1, 1, 1, 1, 1, 1, 1, 1, 1, 1, 1, 1, 1, 1, 1, 1, 1,\n",
              "         1, 1, 1, 1, 1, 1, 1, 1, 1, 1, 1, 1, 1, 1, 1, 1, 1, 1, 1, 1, 1, 1, 1, 1,\n",
              "         1, 1, 1, 1, 1, 1, 1, 1, 1, 1, 1, 1, 1, 1, 1, 1, 1, 1, 1, 1, 1, 1, 1, 1,\n",
              "         1, 1, 1, 1, 1, 1, 1, 1, 1, 1, 1, 1, 1, 1, 1, 1, 1, 1, 1]])}"
            ]
          },
          "metadata": {},
          "execution_count": 19
        }
      ],
      "source": [
        "tokens1"
      ]
    },
    {
      "cell_type": "code",
      "execution_count": null,
      "metadata": {
        "id": "fBz9MmvHMZye"
      },
      "outputs": [],
      "source": [
        "#attention_mask--> where our current attention is\n",
        "#input-->tokens"
      ]
    },
    {
      "cell_type": "code",
      "execution_count": null,
      "metadata": {
        "id": "ySQz64ZPLlJt"
      },
      "outputs": [],
      "source": [
        "#summarize\n",
        "summary1 = model.generate(**tokens1,max_length=100)"
      ]
    },
    {
      "cell_type": "code",
      "execution_count": null,
      "metadata": {
        "id": "GixSrYE_MYPq",
        "colab": {
          "base_uri": "https://localhost:8080/"
        },
        "outputId": "efa02ee8-615f-4133-84f8-b6aa6a719249"
      },
      "outputs": [
        {
          "output_type": "execute_result",
          "data": {
            "text/plain": [
              "tensor([[    0,  1157,   761,   117,   114,  4444,   113,   958,  1578,   120,\n",
              "          2194,   122,   109,  9463,   113,   335,   135,   109,   849,   111,\n",
              "           203,  5751,   207,   118,   109,  1396,   113,  1057,   395,   110,\n",
              "           107,   110,   106,   126,   117,   114,  4420,  1222,   764,   120,\n",
              "           117,  1663,   203,   230,   190,   623,  2574,   253,   130,  3025,\n",
              "           110,   108,   958,  1578,   110,   108,  2487,   110,   108,   111,\n",
              "          9166,   110,   107,   110,   106,  1157,   761,   137,   129,  3365,\n",
              "           130,   109,   335,   120,   117,  3686,   141,   825,  9463,   110,\n",
              "           108,  1088,   113, 13193, 17322,  1088,   157,   127,  2492,   112,\n",
              "           193,  1993,   120,   127,  3830,   141,   335,   110,   107,     1]])"
            ]
          },
          "metadata": {},
          "execution_count": 22
        }
      ],
      "source": [
        "#Summary in Tokens\n",
        "summary1"
      ]
    },
    {
      "cell_type": "code",
      "execution_count": null,
      "metadata": {
        "id": "t1fg8FobM6vE"
      },
      "outputs": [],
      "source": [
        "output1=tokenizer.decode(summary1[0])"
      ]
    },
    {
      "cell_type": "code",
      "source": [
        "output1"
      ],
      "metadata": {
        "id": "o_whGNMc71JK",
        "colab": {
          "base_uri": "https://localhost:8080/",
          "height": 71
        },
        "outputId": "342022f5-5107-409b-87f8-6a9aac4dae94"
      },
      "execution_count": null,
      "outputs": [
        {
          "output_type": "execute_result",
          "data": {
            "text/plain": [
              "'machine learning is a branch of computer science that deals with the extraction of data from the environment and its subsequent use for the purpose of decision making. <n> it is a rapidly growing field that is finding its way into various fields such as medicine, computer science, engineering, and biology. <n> machine learning can be defined as the data that is obtained by knowledge extraction, instead of explicitly programmed instead they are trained to make decisions that are driven by data.'"
            ],
            "application/vnd.google.colaboratory.intrinsic+json": {
              "type": "string"
            }
          },
          "metadata": {},
          "execution_count": 24
        }
      ]
    },
    {
      "cell_type": "code",
      "execution_count": null,
      "metadata": {
        "id": "ZUKEU8FxM-1W",
        "colab": {
          "base_uri": "https://localhost:8080/"
        },
        "outputId": "625b871a-f196-4ffb-b6f7-92cae1be0033"
      },
      "outputs": [
        {
          "output_type": "stream",
          "name": "stdout",
          "text": [
            "Looking in indexes: https://pypi.org/simple, https://us-python.pkg.dev/colab-wheels/public/simple/\n",
            "Collecting rouge\n",
            "  Downloading rouge-1.0.1-py3-none-any.whl (13 kB)\n",
            "Requirement already satisfied: six in /usr/local/lib/python3.7/dist-packages (from rouge) (1.15.0)\n",
            "Installing collected packages: rouge\n",
            "Successfully installed rouge-1.0.1\n"
          ]
        }
      ],
      "source": [
        "!pip install rouge"
      ]
    },
    {
      "cell_type": "code",
      "execution_count": null,
      "metadata": {
        "id": "gXORna3BChoT"
      },
      "outputs": [],
      "source": [
        "from rouge import Rouge"
      ]
    },
    {
      "cell_type": "code",
      "execution_count": null,
      "metadata": {
        "id": "ZKZslS0GCjzC",
        "colab": {
          "base_uri": "https://localhost:8080/"
        },
        "outputId": "837a2f77-6cb0-4009-949a-347f151a4980"
      },
      "outputs": [
        {
          "output_type": "execute_result",
          "data": {
            "text/plain": [
              "[{'rouge-1': {'r': 0.5, 'p': 0.17543859649122806, 'f': 0.25974025589475463},\n",
              "  'rouge-2': {'r': 0.15789473684210525,\n",
              "   'p': 0.038461538461538464,\n",
              "   'f': 0.06185566695291758},\n",
              "  'rouge-l': {'r': 0.5, 'p': 0.17543859649122806, 'f': 0.25974025589475463}}]"
            ]
          },
          "metadata": {},
          "execution_count": 27
        }
      ],
      "source": [
        "rouge = Rouge()\n",
        "rouge.get_scores(output1, reference11)"
      ]
    },
    {
      "cell_type": "code",
      "source": [
        "from nltk.translate.bleu_score import corpus_bleu, sentence_bleu"
      ],
      "metadata": {
        "id": "PN_5BUNaZNIx"
      },
      "execution_count": null,
      "outputs": []
    },
    {
      "cell_type": "code",
      "execution_count": null,
      "metadata": {
        "colab": {
          "base_uri": "https://localhost:8080/"
        },
        "id": "I1YfAnQTeq4D",
        "outputId": "6a803e8b-71f4-4950-e35c-742b3c2d2b66"
      },
      "outputs": [
        {
          "output_type": "stream",
          "name": "stdout",
          "text": [
            "BLEU SCORE: 0.12015670928740571\n"
          ]
        }
      ],
      "source": [
        "reference_1 = [\n",
        "    reference12.split(),\n",
        "    reference13.split()\n",
        "]\n",
        "from nltk.translate.bleu_score import corpus_bleu\n",
        "summary_1=output1.split()\n",
        "score = sentence_bleu(reference_1, summary_1)\n",
        "print(\"BLEU SCORE:\",score)"
      ]
    },
    {
      "cell_type": "markdown",
      "source": [
        "##Sample2"
      ],
      "metadata": {
        "id": "IUYSY2ajJnNe"
      }
    },
    {
      "cell_type": "code",
      "source": [
        "#sample 2\n",
        "text2 "
      ],
      "metadata": {
        "id": "7HfoKltIFrTp",
        "colab": {
          "base_uri": "https://localhost:8080/",
          "height": 106
        },
        "outputId": "75629730-abbf-415b-a343-5dd63c0db9ae"
      },
      "execution_count": null,
      "outputs": [
        {
          "output_type": "execute_result",
          "data": {
            "text/plain": [
              "'Sentimental Analysis is nothing but the task of Natural Language Processing. It observes the attitude of customer behind the comments. Sentiment analysis is a method of identifying sentiments in text.  Sentiment analysis is computational methodology of extracting sentiments from text, speech or dataset. It can classify emotions, attitude, opinion and subjective impression into polarity. Researchers and decision makers understand the approach of the people using consumer sentiment analysis and can make decisions accordingly. Business analysis application can be developed by using this technique. Social network development and popularity is increasing day by day. A growing number of users prefer to order online products and prefer to share their experiences on social networks. Searching for appropriate product online is a difficult task. Recommender system can help users by providing suggestions. Recommender system creates recommendation list. There are three Recommendation system approaches, content based, collaborative and hybrid approach. The content-based approach considers the information of an item and the user’s profile and the recommendation of items is based on the user’s preferences. The collaborative-based approach analyses the user behaviour and preferences and find the same preferences among people. It is well known that collaborative-based techniques are normally more accurate than content-based techniques. The hybrid approach combines both methods. User’s feedback is important tool in recommendation system. The recommendation systems gives suggestion based on the user history and on the user’s profile, but nowadays, the recommendations are starting to explore making more suggestions based on sentiment analysis.'"
            ],
            "application/vnd.google.colaboratory.intrinsic+json": {
              "type": "string"
            }
          },
          "metadata": {},
          "execution_count": 43
        }
      ]
    },
    {
      "cell_type": "code",
      "source": [
        "tokens2=tokenizer(text2, truncation=True, padding=\"longest\", return_tensors=\"pt\")"
      ],
      "metadata": {
        "id": "69j40unh63Gl"
      },
      "execution_count": null,
      "outputs": []
    },
    {
      "cell_type": "code",
      "source": [
        "summary2 = model.generate(**tokens2,max_length=100)"
      ],
      "metadata": {
        "id": "wkFeUv2-68ab"
      },
      "execution_count": null,
      "outputs": []
    },
    {
      "cell_type": "code",
      "source": [
        "summary2"
      ],
      "metadata": {
        "colab": {
          "base_uri": "https://localhost:8080/"
        },
        "id": "Y1dUCZeA7A4v",
        "outputId": "191a3b22-9f5b-4ad8-afdd-3e8a74e79a98"
      },
      "execution_count": null,
      "outputs": [
        {
          "output_type": "execute_result",
          "data": {
            "text/plain": [
              "tensor([[   0, 2956,  936, 1014,  117,  356, 3111,  115, 9972, 1382,  110,  107,\n",
              "          110,  106, 1014,  113, 9972, 1382,  137,  129, 1184,  303,  952,  486,\n",
              "          111, 5312,  242,  141,  242,  141, 1222,  344,  113,  780, 2364,  124,\n",
              "          385, 2186,  242,  141,  242,  110,  107,    1]])"
            ]
          },
          "metadata": {},
          "execution_count": 46
        }
      ]
    },
    {
      "cell_type": "code",
      "source": [
        "output2=tokenizer.decode(summary2[0])"
      ],
      "metadata": {
        "id": "uoCSZNi97DH1"
      },
      "execution_count": null,
      "outputs": []
    },
    {
      "cell_type": "code",
      "source": [
        "output2"
      ],
      "metadata": {
        "colab": {
          "base_uri": "https://localhost:8080/",
          "height": 54
        },
        "id": "YsHZgAAa-9uE",
        "outputId": "81a48843-c3d2-49b2-f5d9-c67f83996bf0"
      },
      "execution_count": null,
      "outputs": [
        {
          "output_type": "execute_result",
          "data": {
            "text/plain": [
              "'contextbased approach is important technique in sentiment analysis. <n> approach of sentiment analysis can be developed using network development and popularity day by day by growing number of users prefer on order increasing day by day.'"
            ],
            "application/vnd.google.colaboratory.intrinsic+json": {
              "type": "string"
            }
          },
          "metadata": {},
          "execution_count": 48
        }
      ]
    },
    {
      "cell_type": "code",
      "source": [
        "rouge = Rouge()\n",
        "rouge.get_scores(output2, reference21)"
      ],
      "metadata": {
        "colab": {
          "base_uri": "https://localhost:8080/"
        },
        "id": "j8ZemCXn7HJG",
        "outputId": "8a68dd61-0be2-4d43-a4e0-36fde2435ee6"
      },
      "execution_count": null,
      "outputs": [
        {
          "output_type": "execute_result",
          "data": {
            "text/plain": [
              "[{'rouge-1': {'r': 0.17391304347826086,\n",
              "   'p': 0.14814814814814814,\n",
              "   'f': 0.15999999503200013},\n",
              "  'rouge-2': {'r': 0.0, 'p': 0.0, 'f': 0.0},\n",
              "  'rouge-l': {'r': 0.13043478260869565,\n",
              "   'p': 0.1111111111111111,\n",
              "   'f': 0.1199999950320002}}]"
            ]
          },
          "metadata": {},
          "execution_count": 49
        }
      ]
    },
    {
      "cell_type": "code",
      "source": [
        "reference_2 = [\n",
        "    reference22.split(),\n",
        "    reference23.split()\n",
        "]\n",
        "from nltk.translate.bleu_score import corpus_bleu\n",
        "summary_2=output2.split()\n",
        "score = sentence_bleu(reference_2, summary_2)\n",
        "print(\"BLEU SCORE:\",score)"
      ],
      "metadata": {
        "id": "d-IzmRG8DCZv",
        "colab": {
          "base_uri": "https://localhost:8080/"
        },
        "outputId": "2de4eba1-5e43-4344-ef4e-f288237e9312"
      },
      "execution_count": null,
      "outputs": [
        {
          "output_type": "stream",
          "name": "stdout",
          "text": [
            "BLEU SCORE: 1.384292958842266e-231\n"
          ]
        },
        {
          "output_type": "stream",
          "name": "stderr",
          "text": [
            "/usr/local/lib/python3.7/dist-packages/nltk/translate/bleu_score.py:552: UserWarning: \n",
            "The hypothesis contains 0 counts of 2-gram overlaps.\n",
            "Therefore the BLEU score evaluates to 0, independently of\n",
            "how many N-gram overlaps of lower order it contains.\n",
            "Consider using lower n-gram order or use SmoothingFunction()\n",
            "  warnings.warn(_msg)\n",
            "/usr/local/lib/python3.7/dist-packages/nltk/translate/bleu_score.py:552: UserWarning: \n",
            "The hypothesis contains 0 counts of 3-gram overlaps.\n",
            "Therefore the BLEU score evaluates to 0, independently of\n",
            "how many N-gram overlaps of lower order it contains.\n",
            "Consider using lower n-gram order or use SmoothingFunction()\n",
            "  warnings.warn(_msg)\n",
            "/usr/local/lib/python3.7/dist-packages/nltk/translate/bleu_score.py:552: UserWarning: \n",
            "The hypothesis contains 0 counts of 4-gram overlaps.\n",
            "Therefore the BLEU score evaluates to 0, independently of\n",
            "how many N-gram overlaps of lower order it contains.\n",
            "Consider using lower n-gram order or use SmoothingFunction()\n",
            "  warnings.warn(_msg)\n"
          ]
        }
      ]
    },
    {
      "cell_type": "code",
      "source": [],
      "metadata": {
        "id": "dzeVNvPm7rJv"
      },
      "execution_count": null,
      "outputs": []
    },
    {
      "cell_type": "markdown",
      "source": [
        "##Sample 3"
      ],
      "metadata": {
        "id": "xWSIlfNNJwnj"
      }
    },
    {
      "cell_type": "code",
      "source": [
        "#sample 3\n",
        "text3"
      ],
      "metadata": {
        "id": "abwcugbMJx1r",
        "colab": {
          "base_uri": "https://localhost:8080/",
          "height": 106
        },
        "outputId": "3abb0d8d-9159-44cc-cd68-461e50357728"
      },
      "execution_count": null,
      "outputs": [
        {
          "output_type": "execute_result",
          "data": {
            "text/plain": [
              "'Data mining is a process to extract information from a data set and transform it into an understandable structure for further use. Educational Data Mining (EDM) relates to the inter-disciplinary research that deals with the development of various methods and techniques to explore the data generated from different educational sources. Analysing educational data could provide information of student’s behaviours, based on which education policies would be made properly.[1] Educational Data Mining refers to techniques, tools, and research designed for automatically extracting meaning from large repositories of data generated by or related to people’s learning activities in educational settings. Recent advances in educational technology, including the increase in computing power and the ability to log fine-grained data about student’s use of a computer-based learning environment, have led to an increased interest in developing techniques for analysing the large amounts of data generated in educational settings. This paper presents a study on current state of EDM and identifies the algorithms applied. Section 2 talks about the Goals and Methods in EDM, section 3 proposes purpose of study and presents the study in summarized fashion. Section 4 talks about role and study about performance factors. Section 5 presents the findings from the survey followed by conclusion. '"
            ],
            "application/vnd.google.colaboratory.intrinsic+json": {
              "type": "string"
            }
          },
          "metadata": {},
          "execution_count": 51
        }
      ]
    },
    {
      "cell_type": "code",
      "source": [
        "tokens3=tokenizer(text3, truncation=True, padding=\"longest\", return_tensors=\"pt\")"
      ],
      "metadata": {
        "id": "4urVO1FwKXz8"
      },
      "execution_count": null,
      "outputs": []
    },
    {
      "cell_type": "code",
      "source": [
        "summary3 = model.generate(**tokens3,max_length=100)"
      ],
      "metadata": {
        "id": "ZOriFEASKX2v"
      },
      "execution_count": null,
      "outputs": []
    },
    {
      "cell_type": "code",
      "source": [
        "summary3"
      ],
      "metadata": {
        "id": "tgFWcQgTK1iP",
        "colab": {
          "base_uri": "https://localhost:8080/"
        },
        "outputId": "0fce7e16-6a5f-4c14-98a0-3f6265a90974"
      },
      "execution_count": null,
      "outputs": [
        {
          "output_type": "execute_result",
          "data": {
            "text/plain": [
              "tensor([[    0,   136,   800,  3702,   582,   449,   233,   113,   233,   109,\n",
              "           233,   691,  8970,   118, 28170,   257,   135,   423,  3912,   113,\n",
              "           335,  3943,   115,  2387,  2499,   110,   107,   110,   106,   109,\n",
              "          8970,   127,   451,   124,  1157,   761,  1625,   110,   107,   110,\n",
              "           106,   109,  1396,   113,   136,   800,   117,   112,   799,   109,\n",
              "           449,   233,   113,   233,   109,   233,   691,  8970,   118,   109,\n",
              "          9463,   113,   257,   135,   110,   106,   980,   761,   335,   110,\n",
              "           107,   110,   106,   109,   449,   233,   113,   233,   109,   233,\n",
              "           691,  8970,   118,   109,  9463,   113,   257,   135,   110,   106,\n",
              "           980,   761,   335,   127,  2540,   115,   136,   800,   110,     1]])"
            ]
          },
          "metadata": {},
          "execution_count": 54
        }
      ]
    },
    {
      "cell_type": "code",
      "source": [
        "output3=tokenizer.decode(summary3[0])"
      ],
      "metadata": {
        "id": "YuUXxuraK1mE"
      },
      "execution_count": null,
      "outputs": []
    },
    {
      "cell_type": "code",
      "source": [
        "output3"
      ],
      "metadata": {
        "id": "dqHZ85jWK1pI",
        "colab": {
          "base_uri": "https://localhost:8080/",
          "height": 71
        },
        "outputId": "d11d82ec-b75d-4ec1-a014-d489683f4ef5"
      },
      "execution_count": null,
      "outputs": [
        {
          "output_type": "execute_result",
          "data": {
            "text/plain": [
              "'this paper presents current state - of - the - art algorithms for extracting information from large amounts of data generated in educational settings. <n> the algorithms are based on machine learning methods. <n> the purpose of this paper is to present the state - of - the - art algorithms for the extraction of information from <n> student learning data. <n> the state - of - the - art algorithms for the extraction of information from <n> student learning data are described in this paper '"
            ],
            "application/vnd.google.colaboratory.intrinsic+json": {
              "type": "string"
            }
          },
          "metadata": {},
          "execution_count": 56
        }
      ]
    },
    {
      "cell_type": "code",
      "source": [],
      "metadata": {
        "id": "Uf4Ou4J4K6Eq"
      },
      "execution_count": null,
      "outputs": []
    },
    {
      "cell_type": "code",
      "source": [],
      "metadata": {
        "id": "IJuNyyicK6Ls"
      },
      "execution_count": null,
      "outputs": []
    },
    {
      "cell_type": "code",
      "source": [
        "rouge = Rouge()\n",
        "rouge.get_scores(output3, reference31)"
      ],
      "metadata": {
        "id": "LuZQUVXWKX7L",
        "colab": {
          "base_uri": "https://localhost:8080/"
        },
        "outputId": "4f0b7c9d-3b1e-4bfa-efef-7eb2ea11825e"
      },
      "execution_count": null,
      "outputs": [
        {
          "output_type": "execute_result",
          "data": {
            "text/plain": [
              "[{'rouge-1': {'r': 0.3333333333333333,\n",
              "   'p': 0.2857142857142857,\n",
              "   'f': 0.3076923027218935},\n",
              "  'rouge-2': {'r': 0.1, 'p': 0.05555555555555555, 'f': 0.071428566836735},\n",
              "  'rouge-l': {'r': 0.3333333333333333,\n",
              "   'p': 0.2857142857142857,\n",
              "   'f': 0.3076923027218935}}]"
            ]
          },
          "metadata": {},
          "execution_count": 57
        }
      ]
    },
    {
      "cell_type": "code",
      "source": [
        "reference_3 = [\n",
        "    reference32.split(),\n",
        "    reference33.split()\n",
        "]\n",
        "from nltk.translate.bleu_score import corpus_bleu\n",
        "summary_3=output3.split()\n",
        "score = sentence_bleu(reference_3, summary_3)\n",
        "print(\"BLEU SCORE:\",score)"
      ],
      "metadata": {
        "id": "TCQjRCw9BBI4",
        "colab": {
          "base_uri": "https://localhost:8080/"
        },
        "outputId": "ac69ea03-2f69-4c65-f28c-0b3f09f34882"
      },
      "execution_count": null,
      "outputs": [
        {
          "output_type": "stream",
          "name": "stdout",
          "text": [
            "BLEU SCORE: 0.06130761694893939\n"
          ]
        }
      ]
    },
    {
      "cell_type": "markdown",
      "source": [
        "##Sample 4"
      ],
      "metadata": {
        "id": "uS4PALcqJyPw"
      }
    },
    {
      "cell_type": "code",
      "source": [
        "#sample 4 : Fake News\n",
        "text4 "
      ],
      "metadata": {
        "id": "-qzEehUJJzSC",
        "colab": {
          "base_uri": "https://localhost:8080/",
          "height": 106
        },
        "outputId": "ccf1ec43-ae40-4067-893c-1f61496d2f2d"
      },
      "execution_count": null,
      "outputs": [
        {
          "output_type": "execute_result",
          "data": {
            "text/plain": [
              "'Fake news can be defined as a pseudo-news or junk news which is false information or content spread via different broadcasting media. This false information is mainly created to mislead people or to cause ravage to a person, organization, etc., or to gain financial benefits. Easier ways to get news nowadays are from sources like media outlets, newspapers, journalists where they follow defined strict codes of practice; this is the traditional method. But the increase in internet network has changed the certain aspect of publishing and sharing the news and information with less editorial standards and regulations. On the other hand, the news is being manipulated by various networking sites based on personal opinions or interests.[1] Fake news causes immense damage in different ways such as misleading people with sharing false information, this can create racists ideas or can damage people’s sentiments, which can give rise to violence among people i.e. causing real-life impacts, etc. This rapid spread of fake news is a serious problem calling for AI solutions.[3] To overcome this, the system is developed which identifies the news authenticity and identifies it as Fake News or Real News. This is done by analyzing the news content where analysis is done on the basis of defined parameters. In the proposed system the user directly enters the data or the news content (news headlines) and enters into the systems search bar and gets the result. The proposed system works upon the two main algorithms i.e. Naive Bayes algorithm and TFIDF algorithm. The defined parameters help to identify the news content and increases the accuracy of the system. Parameters considered are website data, website validates, the similarity of content, timestamps, reviews, and grammatical analysis. These parameters calculate the news authenticity and generate the final result as fake or real news.'"
            ],
            "application/vnd.google.colaboratory.intrinsic+json": {
              "type": "string"
            }
          },
          "metadata": {},
          "execution_count": 59
        }
      ]
    },
    {
      "cell_type": "code",
      "source": [
        "tokens4=tokenizer(text4, truncation=True, padding=\"longest\", return_tensors=\"pt\")"
      ],
      "metadata": {
        "id": "vyFz5b9FKZF9"
      },
      "execution_count": null,
      "outputs": []
    },
    {
      "cell_type": "code",
      "source": [
        "summary4 = model.generate(**tokens4,max_length=100)"
      ],
      "metadata": {
        "id": "DNarLayKKZIm"
      },
      "execution_count": null,
      "outputs": []
    },
    {
      "cell_type": "code",
      "source": [
        "output4=tokenizer.decode(summary4[0])"
      ],
      "metadata": {
        "id": "KfNRCVRHLNAZ"
      },
      "execution_count": null,
      "outputs": []
    },
    {
      "cell_type": "code",
      "source": [
        "output4"
      ],
      "metadata": {
        "id": "ed09KRm4LNDn",
        "colab": {
          "base_uri": "https://localhost:8080/",
          "height": 71
        },
        "outputId": "c3594295-1a0d-4d94-84ec-8e84aa8cb221"
      },
      "execution_count": null,
      "outputs": [
        {
          "output_type": "execute_result",
          "data": {
            "text/plain": [
              "'fake or real news is one of the most important problem in today s world. <n> nowadays, people are getting information from various sources such as internet, television, radio, newspapers, magazines, and different social networking sites. <n> fake or real news is one of the most important problem in today s world. <n> nowadays, people are getting information from various sources such as internet, television, radio, magazines'"
            ],
            "application/vnd.google.colaboratory.intrinsic+json": {
              "type": "string"
            }
          },
          "metadata": {},
          "execution_count": 63
        }
      ]
    },
    {
      "cell_type": "code",
      "source": [],
      "metadata": {
        "id": "81b1Q801LNHL"
      },
      "execution_count": null,
      "outputs": []
    },
    {
      "cell_type": "code",
      "source": [
        "rouge = Rouge()\n",
        "rouge.get_scores(output4, reference41)"
      ],
      "metadata": {
        "id": "DFzCjrxmKZMk",
        "colab": {
          "base_uri": "https://localhost:8080/"
        },
        "outputId": "9f3f2eb5-bc60-42f0-d299-d4704907a134"
      },
      "execution_count": null,
      "outputs": [
        {
          "output_type": "execute_result",
          "data": {
            "text/plain": [
              "[{'rouge-1': {'r': 0.14814814814814814,\n",
              "   'p': 0.10810810810810811,\n",
              "   'f': 0.12499999512207051},\n",
              "  'rouge-2': {'r': 0.03225806451612903,\n",
              "   'p': 0.02631578947368421,\n",
              "   'f': 0.02898550229783743},\n",
              "  'rouge-l': {'r': 0.14814814814814814,\n",
              "   'p': 0.10810810810810811,\n",
              "   'f': 0.12499999512207051}}]"
            ]
          },
          "metadata": {},
          "execution_count": 64
        }
      ]
    },
    {
      "cell_type": "code",
      "source": [
        "reference_4 = [\n",
        "    reference42.split(),\n",
        "    reference43.split()\n",
        "]\n",
        "from nltk.translate.bleu_score import corpus_bleu\n",
        "summary_4=output4.split()\n",
        "score = sentence_bleu(reference_4, summary_4)\n",
        "print(\"BLEU SCORE:\",score)"
      ],
      "metadata": {
        "id": "R1xCfmI9BQNf",
        "colab": {
          "base_uri": "https://localhost:8080/"
        },
        "outputId": "e8954836-9e68-4e02-8365-bd0b6fb5d01a"
      },
      "execution_count": null,
      "outputs": [
        {
          "output_type": "stream",
          "name": "stdout",
          "text": [
            "BLEU SCORE: 4.350658806009483e-155\n"
          ]
        },
        {
          "output_type": "stream",
          "name": "stderr",
          "text": [
            "/usr/local/lib/python3.7/dist-packages/nltk/translate/bleu_score.py:552: UserWarning: \n",
            "The hypothesis contains 0 counts of 3-gram overlaps.\n",
            "Therefore the BLEU score evaluates to 0, independently of\n",
            "how many N-gram overlaps of lower order it contains.\n",
            "Consider using lower n-gram order or use SmoothingFunction()\n",
            "  warnings.warn(_msg)\n",
            "/usr/local/lib/python3.7/dist-packages/nltk/translate/bleu_score.py:552: UserWarning: \n",
            "The hypothesis contains 0 counts of 4-gram overlaps.\n",
            "Therefore the BLEU score evaluates to 0, independently of\n",
            "how many N-gram overlaps of lower order it contains.\n",
            "Consider using lower n-gram order or use SmoothingFunction()\n",
            "  warnings.warn(_msg)\n"
          ]
        }
      ]
    },
    {
      "cell_type": "markdown",
      "source": [
        "#Sample 5"
      ],
      "metadata": {
        "id": "YMU_PfBgJznx"
      }
    },
    {
      "cell_type": "code",
      "source": [
        "#Sample 5: A review of microscopic analysis of blood cells for disease detection with AI perspective\n",
        "text5 = \"\"\"\n",
        "Blood, the most integral part of the body, is constituted of white blood cells (WBC), red blood cells (RBC), platelets, and plasma. \n",
        "This can be further categorized as; cells and platelets are about 45% of human blood, whereas the remaining 55% is filled by plasma (the yellow fluid in the blood). \n",
        "These components and their physical properties like size, shape, color, and count in the whole blood change due to ingress of any foreign object or micro-organism can lead to any sort of infections.\n",
        "\n",
        "There are different pathological procedures for the detection of diseases. In most cases, microscopic imaging plays a vital role in predicting and detecting abnormalities and occurrences of diseases within the body. \n",
        "Typically, the health of any person is judged by analyzing different features of blood cells and their counts.\n",
        "\n",
        "\"\"\""
      ],
      "metadata": {
        "id": "8Mv8wOIfJ0jd"
      },
      "execution_count": null,
      "outputs": []
    },
    {
      "cell_type": "code",
      "source": [
        "tokens5=tokenizer(text5, truncation=True, padding=\"longest\", return_tensors=\"pt\")"
      ],
      "metadata": {
        "id": "9y_n6Cj-KUiz"
      },
      "execution_count": null,
      "outputs": []
    },
    {
      "cell_type": "code",
      "source": [
        "summary5 = model.generate(**tokens5,max_length=100)"
      ],
      "metadata": {
        "id": "m9ZvSsO0KUmG"
      },
      "execution_count": null,
      "outputs": []
    },
    {
      "cell_type": "code",
      "source": [
        "output5=tokenizer.decode(summary5[0])"
      ],
      "metadata": {
        "id": "Eah3RubZLOGH"
      },
      "execution_count": null,
      "outputs": []
    },
    {
      "cell_type": "code",
      "source": [
        "output5"
      ],
      "metadata": {
        "id": "8wyDxUqZLOJL",
        "colab": {
          "base_uri": "https://localhost:8080/",
          "height": 54
        },
        "outputId": "f1b64642-e761-466d-e8e6-3e55fb8d9a52"
      },
      "execution_count": null,
      "outputs": [
        {
          "output_type": "execute_result",
          "data": {
            "text/plain": [
              "'imaging plays a vital role in predicting and detecting abnormalities within the body. <n> blood is an integral part of the body. <n> it can be divided into red blood cells, white blood cells, and plasma. <n> the plasma is further divided into yellow blood cells, and the rest of the body into red blood cells, white blood cells, and plasma.'"
            ],
            "application/vnd.google.colaboratory.intrinsic+json": {
              "type": "string"
            }
          },
          "metadata": {},
          "execution_count": 70
        }
      ]
    },
    {
      "cell_type": "code",
      "source": [],
      "metadata": {
        "id": "nY0NfeQkLOMf"
      },
      "execution_count": null,
      "outputs": []
    },
    {
      "cell_type": "code",
      "source": [
        "reference5 =\"There are different pathological procedures for the detection of diseases. Typically, the health of any person is judged by analyzing different features of blood cells and their counts. In most cases, microscopic imaging plays a vital role in predicting and detecting abnormalities and occurrences of diseases within the body. \"\n",
        "rouge = Rouge()\n",
        "rouge.get_scores(output5, reference5)"
      ],
      "metadata": {
        "id": "3JgUswGbKUo_",
        "colab": {
          "base_uri": "https://localhost:8080/"
        },
        "outputId": "c25d76c9-2192-46de-c8ae-ee2818c57bc0"
      },
      "execution_count": null,
      "outputs": [
        {
          "output_type": "execute_result",
          "data": {
            "text/plain": [
              "[{'rouge-1': {'r': 0.3902439024390244, 'p': 0.5, 'f': 0.4383561594595609},\n",
              "  'rouge-2': {'r': 0.22916666666666666, 'p': 0.25, 'f': 0.23913042979206062},\n",
              "  'rouge-l': {'r': 0.3902439024390244, 'p': 0.5, 'f': 0.4383561594595609}}]"
            ]
          },
          "metadata": {},
          "execution_count": 71
        }
      ]
    },
    {
      "cell_type": "markdown",
      "source": [
        "#Sample 6"
      ],
      "metadata": {
        "id": "1mnvSNtYJ044"
      }
    },
    {
      "cell_type": "code",
      "source": [
        "#Sample 6: On Context Awareness for Multisensor Data Fusion in IoT\n",
        "text6 = \"\"\"\n",
        "The concept of the internet of things (IoT) originated in the Auto-ID Center at the Massachusetts Institute of Technology in 1999.\n",
        "Kevin Ashton had imagined a world in which all electronic devices are networked and every object, whether physical or electronic, is electronically tagged with information applicable to that object.\n",
        "The underlying aim of this concept is the achievement of pervasive connections between the internet and objects around us. \n",
        "It is perfect assimilation of real-world objects with logical things.\n",
        "Multi-sensor data fusion system is analogous to human who can sense the environment with the help of their sensory organs like nose, ears, skin, etc. and make correct inferences about their surroundings.\n",
        "Multisensor data fusion refers to the comprehensive fusing of sensory data from multiple sensors and related information in order to provide more reliable and accurate information that could be achieved using a single, independent sensor.\n",
        "Sensor fusion technology was primarily developed for Military surveillance research and robotics by US DoD. \n",
        "Later, it has got commercially wider acceptance in the areas, such as intelligent transport system, geographic information, land and ocean surveillance, robotics, data and information security, medical surveillance, diagnosis, etc.\n",
        " The only way to gain the required amount of information with the expected intelligence is viable with the help of multisensors data fusion approach.\n",
        "\n",
        "\"\"\""
      ],
      "metadata": {
        "id": "OIRH6zeEJ1-U"
      },
      "execution_count": null,
      "outputs": []
    },
    {
      "cell_type": "code",
      "source": [
        "tokens6=tokenizer(text6, truncation=True, padding=\"longest\", return_tensors=\"pt\")"
      ],
      "metadata": {
        "id": "wdo1757XKNzd"
      },
      "execution_count": null,
      "outputs": []
    },
    {
      "cell_type": "code",
      "source": [
        "summary6 = model.generate(**tokens6,max_length=100)"
      ],
      "metadata": {
        "id": "dHKJUCxCKN2u"
      },
      "execution_count": null,
      "outputs": []
    },
    {
      "cell_type": "code",
      "source": [
        "output6=tokenizer.decode(summary6[0])"
      ],
      "metadata": {
        "id": "SmHhbF-0KOBD"
      },
      "execution_count": null,
      "outputs": []
    },
    {
      "cell_type": "code",
      "source": [
        "output6"
      ],
      "metadata": {
        "id": "iBbYCDLxKQxa",
        "colab": {
          "base_uri": "https://localhost:8080/",
          "height": 54
        },
        "outputId": "7f03a070-e247-48ce-d701-6629fb0e2e67"
      },
      "execution_count": null,
      "outputs": [
        {
          "output_type": "execute_result",
          "data": {
            "text/plain": [
              "'sensor data fusion refers to comprehensive sensory data from multiple sensors and provide more reliable information and independent information that could be achieved by using single sensor fusion technology.'"
            ],
            "application/vnd.google.colaboratory.intrinsic+json": {
              "type": "string"
            }
          },
          "metadata": {},
          "execution_count": 76
        }
      ]
    },
    {
      "cell_type": "code",
      "source": [
        "reference6 =\"The aim of the internet of things is to achieve pervasive connections between the internet and objects around us. Multisensor data fusion refers to the comprehensive fusing of sensory data from multiple sensors. Sensor fusion technology was primarily developed for Military surveillance research and robotics by US DoD. \"\n",
        "rouge = Rouge()\n",
        "rouge.get_scores(output6, reference6)"
      ],
      "metadata": {
        "id": "51KHX_MDKQ20",
        "colab": {
          "base_uri": "https://localhost:8080/"
        },
        "outputId": "bc1007a9-6466-4d91-92ad-ac53507c1390"
      },
      "execution_count": null,
      "outputs": [
        {
          "output_type": "execute_result",
          "data": {
            "text/plain": [
              "[{'rouge-1': {'r': 0.3, 'p': 0.5, 'f': 0.3749999953125},\n",
              "  'rouge-2': {'r': 0.1702127659574468,\n",
              "   'p': 0.2857142857142857,\n",
              "   'f': 0.2133333286542223},\n",
              "  'rouge-l': {'r': 0.275, 'p': 0.4583333333333333, 'f': 0.3437499953125}}]"
            ]
          },
          "metadata": {},
          "execution_count": 77
        }
      ]
    },
    {
      "cell_type": "markdown",
      "source": [
        "##Sample 7"
      ],
      "metadata": {
        "id": "6P0DeRIIJ2X3"
      }
    },
    {
      "cell_type": "code",
      "source": [
        "#sample 7: Fake News Detector: FND\n",
        "\n",
        "text7='''\n",
        "Fake news can be defined as a pseudo-news or junk news which is false information or content spread via different broadcasting media.\n",
        "This false information is mainly created to mislead people or to cause ravage to a person, organization, etc., or to gain financial benefits. \n",
        "Easier ways to get news nowadays are from sources like media outlets, newspapers, journalists where they follow defined strict codes of practice; this is the traditional method. \n",
        "But the increase in internet network has changed the certain aspect of publishing and sharing the news and information with less editorial standards and regulations.\n",
        "On the other hand, the news is being manipulated by various networking sites based on personal opinions or interests.\n",
        "Fake news causes immense damage in different ways such as misleading people with sharing false information, this can create racists ideas or can damage people’s sentiments, which can give rise to violence among people i.e. causing real-life impacts, etc. \n",
        "This rapid spread of fake news is a serious problem calling for AI solutions. To overcome this, the system is developed which identifies the news authenticity and identifies it as Fake News or Real News. \n",
        "This is done by analyzing the news content where analysis is done on the basis of defined parameters. \n",
        "In the proposed system the user directly enters the data or the news content (news headlines) and enters into the systems search bar and gets the result. \n",
        "The proposed system works upon the two main algorithms i.e. Naive Bayes algorithm and TFIDF algorithm. The defined parameters help to identify the news content and increases the accuracy of the system. \n",
        "Parameters considered are website data, website validates, the similarity of content, timestamps, reviews, and grammatical analysis. \n",
        "These parameters calculate the news authenticity and generate the final result as fake or real news.\n",
        "'''"
      ],
      "metadata": {
        "id": "xUAfXucAJ4kF"
      },
      "execution_count": null,
      "outputs": []
    },
    {
      "cell_type": "code",
      "source": [
        "tokens7=tokenizer(text7, truncation=True, padding=\"longest\", return_tensors=\"pt\")"
      ],
      "metadata": {
        "id": "yHKHERMuKHFp"
      },
      "execution_count": null,
      "outputs": []
    },
    {
      "cell_type": "code",
      "source": [
        "summary7 = model.generate(**tokens7,max_length=100)"
      ],
      "metadata": {
        "id": "MFu3qruPKHIb"
      },
      "execution_count": null,
      "outputs": []
    },
    {
      "cell_type": "code",
      "source": [
        "output7=tokenizer.decode(summary7[0])"
      ],
      "metadata": {
        "id": "dbxUQICKKHLE"
      },
      "execution_count": null,
      "outputs": []
    },
    {
      "cell_type": "code",
      "source": [
        "output7"
      ],
      "metadata": {
        "id": "c9DrngoeLV2D",
        "colab": {
          "base_uri": "https://localhost:8080/"
        },
        "outputId": "0d96d6d6-ad73-4c6a-a5c4-bd4b998da025"
      },
      "execution_count": null,
      "outputs": [
        {
          "output_type": "execute_result",
          "data": {
            "text/plain": [
              "'fake news or junk news is one of the most serious and rapidly spreading news on the internet. <n> nowadays, due to changes in technology, it is becoming very difficult for the people to verify the authenticity of news content. <n> fake news can be defined as the creation of false or junk information or content which is created to mislead or cause people to spread via different broadcasting organization, radio, television, internet, social media etc. <n>'"
            ],
            "application/vnd.google.colaboratory.intrinsic+json": {
              "type": "string"
            }
          },
          "metadata": {},
          "execution_count": 82
        }
      ]
    },
    {
      "cell_type": "code",
      "source": [
        "reference7 =\"Parameters including websites data, website validates, similarity of content, timestamps, reviews, and grammarical analysis calculate the authenticity of the news using the Naive Bayes and TFIDF algorithms that increase accuracy of the system.\"\n",
        "rouge = Rouge()\n",
        "rouge.get_scores(output7, reference7)"
      ],
      "metadata": {
        "id": "yd7KVl5yKHN9",
        "colab": {
          "base_uri": "https://localhost:8080/"
        },
        "outputId": "f1f2a69d-c25c-4edf-c43f-11c4c13521fc"
      },
      "execution_count": null,
      "outputs": [
        {
          "output_type": "execute_result",
          "data": {
            "text/plain": [
              "[{'rouge-1': {'r': 0.18518518518518517,\n",
              "   'p': 0.09433962264150944,\n",
              "   'f': 0.12499999552812516},\n",
              "  'rouge-2': {'r': 0.0967741935483871,\n",
              "   'p': 0.0410958904109589,\n",
              "   'f': 0.05769230350776658},\n",
              "  'rouge-l': {'r': 0.18518518518518517,\n",
              "   'p': 0.09433962264150944,\n",
              "   'f': 0.12499999552812516}}]"
            ]
          },
          "metadata": {},
          "execution_count": 83
        }
      ]
    },
    {
      "cell_type": "markdown",
      "source": [
        "##Sample 8"
      ],
      "metadata": {
        "id": "2p8910GUJ468"
      }
    },
    {
      "cell_type": "code",
      "source": [
        "#Sample 8: Iris Liveness Detection for Biometric Authentication: A Systematic Literature Review and Future Directions\n",
        "\n",
        "text8='''\n",
        "During the primeval eras, there were restricted choices and ways for personal iden- tification. \n",
        "Nowadays, we have an era of computer vision and biometrics, which does not involve any external artifact or token to recognize others. \n",
        "Instead, individuals can be acknowledged with their own biological or behavioral features with the aid of biometrics as an alternative to their associations, possessions, or any secret information.\n",
        "The necessity of mechanized and precise identification directed us to biometrics, which controls technology to accelerate the course of human identification and authentication. \n",
        "The biometric ID has been originated and replaced the printed IDs. This allows you to verify your identity, deprived of carrying any card or document (www.bayometric.com (accessed on 4 August 2021)). \n",
        "The authentication is a vital stage for offering admittance to the resources to the approved individuals. \n",
        "Conventional authentication systems such as a pin, card, and password cannot differentiate between real users and imposters who have fraudulently accessed the system.\n",
        " There are many possibilities of forgetting the password/pin or stealing and misplacement of the card. The device that allows the automatic identification of an individual is known as a biometric system. \n",
        " The biometric authentication system is easy to use, and there is no need to remember a password, card, and pin code.\n",
        "Biometrics have been extensively discovered for their automation, approachability, and accuracy with the mounting security needs of our everyday lives. \n",
        "It is a mechanized device that studies human beings’ physiological and behavioral features for their unique classification as the technology has differentiated from detection to criminal identifications and forensics.\n",
        "There are several diverse markets of biometric technology which exist today. Most of the markets appear to be mounting swiftly. \n",
        "The global biometric technologies market is anticipated to reach 19.08 billion US dollars in 2021, while the contactless biometric technologies market is predicted to grow to over 30.15 billion US dollars by 2027 (www. statista.com (accessed on 4 August 2021)).\n",
        " Biometrics have been successfully deployed in a variety of applications where security is of primary concern. \n",
        " \n",
        " For example, airport check-in and check-out personal identification cards [3]; sensitive information from unauthorized users, and credit card authentication.\n",
        "Several biometric characteristics such as the fingerprint, iris, palm print, and the face, are used for authentication and recognition.\n",
        " As compared to fingerprint and face, the iris-based authentication provides stronger contactless identification of the user. \n",
        " Table 1 displays various applications domains for iris biometric detection. The contactless approach helps to prevent the spread of viruses and diseases such as COVID-19. \n",
        " Iris has complex textures and unique features, so it is widely used in identifying and authentication the person in many applications. \n",
        " Aadhar project uses the biometric system to identify the citizens of India, Amsterdam airport, and the US Canadian border. Even though the iris has a unique texture pattern, there is a possibility of spoofing by the imposter. People attack the biometric device to obtain the rights of others.\n",
        "Iris detection systems can be easily spoofed by using different types of contact lens such as transparent lenses, colored lenses, and textured lenses.\n",
        " By using the transparent lenses, the fraudster cannot alter the iris texture but can modify the reflection property of the Iris recognition system. \n",
        " An imposter can conceal the real texture of an Iris with the aid of textured color lenses. The system can also be rapidly spoofed by replaying a video as well as a print attack. \n",
        " This means the iris pattern is acquainted with the machine by printing an iris image. Print attacks are performed in two modes:. \n",
        " First is print and scan, in which the high-quality printed iris pattern is scanned, and second is print and capture, in which the scanner takes the snapshot. \n",
        " Due to vulnerabilities in traditional security systems that lead to frequent security breaches, biometrics is increasingly becoming important.\n",
        "  Thus, ILD for biometric authentication is a significant research area.\n",
        "'''"
      ],
      "metadata": {
        "id": "0P9G7q7SJ56V"
      },
      "execution_count": null,
      "outputs": []
    },
    {
      "cell_type": "code",
      "source": [
        "tokens8=tokenizer(text8, truncation=True, padding=\"longest\", return_tensors=\"pt\")"
      ],
      "metadata": {
        "id": "BIHkU0BsKFxI"
      },
      "execution_count": null,
      "outputs": []
    },
    {
      "cell_type": "code",
      "source": [
        "summary8 = model.generate(**tokens8,max_length=100)"
      ],
      "metadata": {
        "id": "qh8nEC7hKF2b"
      },
      "execution_count": null,
      "outputs": []
    },
    {
      "cell_type": "code",
      "source": [
        "output8=tokenizer.decode(summary8[0])"
      ],
      "metadata": {
        "id": "dOo6kQqmKF5h"
      },
      "execution_count": null,
      "outputs": []
    },
    {
      "cell_type": "code",
      "source": [
        "output8"
      ],
      "metadata": {
        "id": "w7PnE5aEKGAJ",
        "colab": {
          "base_uri": "https://localhost:8080/"
        },
        "outputId": "4ed182e1-8278-42ce-bdea-1396d5a25a64"
      },
      "execution_count": null,
      "outputs": [
        {
          "output_type": "execute_result",
          "data": {
            "text/plain": [
              "'authentication is vital stage offering vital resources for admittance security systems increasingly. <n> biometrics has been extensively discovered for their automation, approachability, and accuracy. <n> authentication is vital stage offering vital resources for admittance security systems increasingly. <n> individuals can be acknowledged with their own biological or behavioral features with an acknowledged course of any biometrics.'"
            ],
            "application/vnd.google.colaboratory.intrinsic+json": {
              "type": "string"
            }
          },
          "metadata": {},
          "execution_count": 88
        }
      ]
    },
    {
      "cell_type": "code",
      "source": [
        "reference8 =\"Biometrics is a mechanized device that studies human beings' physiological and behavioral features for their unique classification as the technology has differentiated from detection to criminal identifications and forensics. The biometric authentication system is easy to use, and there is no need to remember a password, card, and pin code.\"\n",
        "rouge.get_scores(output8, reference8)"
      ],
      "metadata": {
        "id": "2PUO4jZuJ7Ou",
        "colab": {
          "base_uri": "https://localhost:8080/"
        },
        "outputId": "d77dab36-56b5-4f12-ab54-7ab37bef64b1"
      },
      "execution_count": null,
      "outputs": [
        {
          "output_type": "execute_result",
          "data": {
            "text/plain": [
              "[{'rouge-1': {'r': 0.19047619047619047,\n",
              "   'p': 0.2222222222222222,\n",
              "   'f': 0.20512820015779104},\n",
              "  'rouge-2': {'r': 0.04081632653061224,\n",
              "   'p': 0.046511627906976744,\n",
              "   'f': 0.04347825589083233},\n",
              "  'rouge-l': {'r': 0.16666666666666666,\n",
              "   'p': 0.19444444444444445,\n",
              "   'f': 0.1794871745167654}}]"
            ]
          },
          "metadata": {},
          "execution_count": 89
        }
      ]
    }
  ],
  "metadata": {
    "colab": {
      "provenance": []
    },
    "kernelspec": {
      "display_name": "Python 3",
      "name": "python3"
    },
    "language_info": {
      "name": "python"
    },
    "widgets": {
      "application/vnd.jupyter.widget-state+json": {
        "56d4e0b785184a8aa6af5c6ab6cf193e": {
          "model_module": "@jupyter-widgets/controls",
          "model_name": "HBoxModel",
          "model_module_version": "1.5.0",
          "state": {
            "_dom_classes": [],
            "_model_module": "@jupyter-widgets/controls",
            "_model_module_version": "1.5.0",
            "_model_name": "HBoxModel",
            "_view_count": null,
            "_view_module": "@jupyter-widgets/controls",
            "_view_module_version": "1.5.0",
            "_view_name": "HBoxView",
            "box_style": "",
            "children": [
              "IPY_MODEL_a2b27719145744a6b82b0515dedc8363",
              "IPY_MODEL_5978f79ac01e49b7b09fc646b779ed32",
              "IPY_MODEL_de4ecbc052684f13bb9bf4cff0ea9c72"
            ],
            "layout": "IPY_MODEL_d645778337ba41cf8d1f3fb51f13c4c1"
          }
        },
        "a2b27719145744a6b82b0515dedc8363": {
          "model_module": "@jupyter-widgets/controls",
          "model_name": "HTMLModel",
          "model_module_version": "1.5.0",
          "state": {
            "_dom_classes": [],
            "_model_module": "@jupyter-widgets/controls",
            "_model_module_version": "1.5.0",
            "_model_name": "HTMLModel",
            "_view_count": null,
            "_view_module": "@jupyter-widgets/controls",
            "_view_module_version": "1.5.0",
            "_view_name": "HTMLView",
            "description": "",
            "description_tooltip": null,
            "layout": "IPY_MODEL_64ce2d48cfc24b3899d70490c9ccddbf",
            "placeholder": "​",
            "style": "IPY_MODEL_799116d57587473e84d11db233261432",
            "value": "Downloading: 100%"
          }
        },
        "5978f79ac01e49b7b09fc646b779ed32": {
          "model_module": "@jupyter-widgets/controls",
          "model_name": "FloatProgressModel",
          "model_module_version": "1.5.0",
          "state": {
            "_dom_classes": [],
            "_model_module": "@jupyter-widgets/controls",
            "_model_module_version": "1.5.0",
            "_model_name": "FloatProgressModel",
            "_view_count": null,
            "_view_module": "@jupyter-widgets/controls",
            "_view_module_version": "1.5.0",
            "_view_name": "ProgressView",
            "bar_style": "success",
            "description": "",
            "description_tooltip": null,
            "layout": "IPY_MODEL_95f382004aa24af8a8bac705e19c09bc",
            "max": 1912529,
            "min": 0,
            "orientation": "horizontal",
            "style": "IPY_MODEL_0570d0546d8b40b5a5b7faaff4c28357",
            "value": 1912529
          }
        },
        "de4ecbc052684f13bb9bf4cff0ea9c72": {
          "model_module": "@jupyter-widgets/controls",
          "model_name": "HTMLModel",
          "model_module_version": "1.5.0",
          "state": {
            "_dom_classes": [],
            "_model_module": "@jupyter-widgets/controls",
            "_model_module_version": "1.5.0",
            "_model_name": "HTMLModel",
            "_view_count": null,
            "_view_module": "@jupyter-widgets/controls",
            "_view_module_version": "1.5.0",
            "_view_name": "HTMLView",
            "description": "",
            "description_tooltip": null,
            "layout": "IPY_MODEL_4d7ebae5112c4537815eea10160e9178",
            "placeholder": "​",
            "style": "IPY_MODEL_9d37cf51c0e646f486b52280bee5cc15",
            "value": " 1.91M/1.91M [00:00&lt;00:00, 2.09MB/s]"
          }
        },
        "d645778337ba41cf8d1f3fb51f13c4c1": {
          "model_module": "@jupyter-widgets/base",
          "model_name": "LayoutModel",
          "model_module_version": "1.2.0",
          "state": {
            "_model_module": "@jupyter-widgets/base",
            "_model_module_version": "1.2.0",
            "_model_name": "LayoutModel",
            "_view_count": null,
            "_view_module": "@jupyter-widgets/base",
            "_view_module_version": "1.2.0",
            "_view_name": "LayoutView",
            "align_content": null,
            "align_items": null,
            "align_self": null,
            "border": null,
            "bottom": null,
            "display": null,
            "flex": null,
            "flex_flow": null,
            "grid_area": null,
            "grid_auto_columns": null,
            "grid_auto_flow": null,
            "grid_auto_rows": null,
            "grid_column": null,
            "grid_gap": null,
            "grid_row": null,
            "grid_template_areas": null,
            "grid_template_columns": null,
            "grid_template_rows": null,
            "height": null,
            "justify_content": null,
            "justify_items": null,
            "left": null,
            "margin": null,
            "max_height": null,
            "max_width": null,
            "min_height": null,
            "min_width": null,
            "object_fit": null,
            "object_position": null,
            "order": null,
            "overflow": null,
            "overflow_x": null,
            "overflow_y": null,
            "padding": null,
            "right": null,
            "top": null,
            "visibility": null,
            "width": null
          }
        },
        "64ce2d48cfc24b3899d70490c9ccddbf": {
          "model_module": "@jupyter-widgets/base",
          "model_name": "LayoutModel",
          "model_module_version": "1.2.0",
          "state": {
            "_model_module": "@jupyter-widgets/base",
            "_model_module_version": "1.2.0",
            "_model_name": "LayoutModel",
            "_view_count": null,
            "_view_module": "@jupyter-widgets/base",
            "_view_module_version": "1.2.0",
            "_view_name": "LayoutView",
            "align_content": null,
            "align_items": null,
            "align_self": null,
            "border": null,
            "bottom": null,
            "display": null,
            "flex": null,
            "flex_flow": null,
            "grid_area": null,
            "grid_auto_columns": null,
            "grid_auto_flow": null,
            "grid_auto_rows": null,
            "grid_column": null,
            "grid_gap": null,
            "grid_row": null,
            "grid_template_areas": null,
            "grid_template_columns": null,
            "grid_template_rows": null,
            "height": null,
            "justify_content": null,
            "justify_items": null,
            "left": null,
            "margin": null,
            "max_height": null,
            "max_width": null,
            "min_height": null,
            "min_width": null,
            "object_fit": null,
            "object_position": null,
            "order": null,
            "overflow": null,
            "overflow_x": null,
            "overflow_y": null,
            "padding": null,
            "right": null,
            "top": null,
            "visibility": null,
            "width": null
          }
        },
        "799116d57587473e84d11db233261432": {
          "model_module": "@jupyter-widgets/controls",
          "model_name": "DescriptionStyleModel",
          "model_module_version": "1.5.0",
          "state": {
            "_model_module": "@jupyter-widgets/controls",
            "_model_module_version": "1.5.0",
            "_model_name": "DescriptionStyleModel",
            "_view_count": null,
            "_view_module": "@jupyter-widgets/base",
            "_view_module_version": "1.2.0",
            "_view_name": "StyleView",
            "description_width": ""
          }
        },
        "95f382004aa24af8a8bac705e19c09bc": {
          "model_module": "@jupyter-widgets/base",
          "model_name": "LayoutModel",
          "model_module_version": "1.2.0",
          "state": {
            "_model_module": "@jupyter-widgets/base",
            "_model_module_version": "1.2.0",
            "_model_name": "LayoutModel",
            "_view_count": null,
            "_view_module": "@jupyter-widgets/base",
            "_view_module_version": "1.2.0",
            "_view_name": "LayoutView",
            "align_content": null,
            "align_items": null,
            "align_self": null,
            "border": null,
            "bottom": null,
            "display": null,
            "flex": null,
            "flex_flow": null,
            "grid_area": null,
            "grid_auto_columns": null,
            "grid_auto_flow": null,
            "grid_auto_rows": null,
            "grid_column": null,
            "grid_gap": null,
            "grid_row": null,
            "grid_template_areas": null,
            "grid_template_columns": null,
            "grid_template_rows": null,
            "height": null,
            "justify_content": null,
            "justify_items": null,
            "left": null,
            "margin": null,
            "max_height": null,
            "max_width": null,
            "min_height": null,
            "min_width": null,
            "object_fit": null,
            "object_position": null,
            "order": null,
            "overflow": null,
            "overflow_x": null,
            "overflow_y": null,
            "padding": null,
            "right": null,
            "top": null,
            "visibility": null,
            "width": null
          }
        },
        "0570d0546d8b40b5a5b7faaff4c28357": {
          "model_module": "@jupyter-widgets/controls",
          "model_name": "ProgressStyleModel",
          "model_module_version": "1.5.0",
          "state": {
            "_model_module": "@jupyter-widgets/controls",
            "_model_module_version": "1.5.0",
            "_model_name": "ProgressStyleModel",
            "_view_count": null,
            "_view_module": "@jupyter-widgets/base",
            "_view_module_version": "1.2.0",
            "_view_name": "StyleView",
            "bar_color": null,
            "description_width": ""
          }
        },
        "4d7ebae5112c4537815eea10160e9178": {
          "model_module": "@jupyter-widgets/base",
          "model_name": "LayoutModel",
          "model_module_version": "1.2.0",
          "state": {
            "_model_module": "@jupyter-widgets/base",
            "_model_module_version": "1.2.0",
            "_model_name": "LayoutModel",
            "_view_count": null,
            "_view_module": "@jupyter-widgets/base",
            "_view_module_version": "1.2.0",
            "_view_name": "LayoutView",
            "align_content": null,
            "align_items": null,
            "align_self": null,
            "border": null,
            "bottom": null,
            "display": null,
            "flex": null,
            "flex_flow": null,
            "grid_area": null,
            "grid_auto_columns": null,
            "grid_auto_flow": null,
            "grid_auto_rows": null,
            "grid_column": null,
            "grid_gap": null,
            "grid_row": null,
            "grid_template_areas": null,
            "grid_template_columns": null,
            "grid_template_rows": null,
            "height": null,
            "justify_content": null,
            "justify_items": null,
            "left": null,
            "margin": null,
            "max_height": null,
            "max_width": null,
            "min_height": null,
            "min_width": null,
            "object_fit": null,
            "object_position": null,
            "order": null,
            "overflow": null,
            "overflow_x": null,
            "overflow_y": null,
            "padding": null,
            "right": null,
            "top": null,
            "visibility": null,
            "width": null
          }
        },
        "9d37cf51c0e646f486b52280bee5cc15": {
          "model_module": "@jupyter-widgets/controls",
          "model_name": "DescriptionStyleModel",
          "model_module_version": "1.5.0",
          "state": {
            "_model_module": "@jupyter-widgets/controls",
            "_model_module_version": "1.5.0",
            "_model_name": "DescriptionStyleModel",
            "_view_count": null,
            "_view_module": "@jupyter-widgets/base",
            "_view_module_version": "1.2.0",
            "_view_name": "StyleView",
            "description_width": ""
          }
        },
        "65b8730e8ddb4250b58787466a6e3256": {
          "model_module": "@jupyter-widgets/controls",
          "model_name": "HBoxModel",
          "model_module_version": "1.5.0",
          "state": {
            "_dom_classes": [],
            "_model_module": "@jupyter-widgets/controls",
            "_model_module_version": "1.5.0",
            "_model_name": "HBoxModel",
            "_view_count": null,
            "_view_module": "@jupyter-widgets/controls",
            "_view_module_version": "1.5.0",
            "_view_name": "HBoxView",
            "box_style": "",
            "children": [
              "IPY_MODEL_91e8f91c74294b829a0f2af85b7e833a",
              "IPY_MODEL_9138ec9bf85a44f7b2d12491a3f8c1ae",
              "IPY_MODEL_069822c83708429fb4a059214a6c9730"
            ],
            "layout": "IPY_MODEL_d9b460917ccd4725b7243d84b1cec456"
          }
        },
        "91e8f91c74294b829a0f2af85b7e833a": {
          "model_module": "@jupyter-widgets/controls",
          "model_name": "HTMLModel",
          "model_module_version": "1.5.0",
          "state": {
            "_dom_classes": [],
            "_model_module": "@jupyter-widgets/controls",
            "_model_module_version": "1.5.0",
            "_model_name": "HTMLModel",
            "_view_count": null,
            "_view_module": "@jupyter-widgets/controls",
            "_view_module_version": "1.5.0",
            "_view_name": "HTMLView",
            "description": "",
            "description_tooltip": null,
            "layout": "IPY_MODEL_b47f1d0c82694c1a9ba47be4e1d5cf1c",
            "placeholder": "​",
            "style": "IPY_MODEL_228a2eebd2334d87aa332aab715fa67b",
            "value": "Downloading: 100%"
          }
        },
        "9138ec9bf85a44f7b2d12491a3f8c1ae": {
          "model_module": "@jupyter-widgets/controls",
          "model_name": "FloatProgressModel",
          "model_module_version": "1.5.0",
          "state": {
            "_dom_classes": [],
            "_model_module": "@jupyter-widgets/controls",
            "_model_module_version": "1.5.0",
            "_model_name": "FloatProgressModel",
            "_view_count": null,
            "_view_module": "@jupyter-widgets/controls",
            "_view_module_version": "1.5.0",
            "_view_name": "ProgressView",
            "bar_style": "success",
            "description": "",
            "description_tooltip": null,
            "layout": "IPY_MODEL_4ec33ca15c534e6f863d9118a65222db",
            "max": 65,
            "min": 0,
            "orientation": "horizontal",
            "style": "IPY_MODEL_8dc24dfc523b4f078a7922dff3f09c76",
            "value": 65
          }
        },
        "069822c83708429fb4a059214a6c9730": {
          "model_module": "@jupyter-widgets/controls",
          "model_name": "HTMLModel",
          "model_module_version": "1.5.0",
          "state": {
            "_dom_classes": [],
            "_model_module": "@jupyter-widgets/controls",
            "_model_module_version": "1.5.0",
            "_model_name": "HTMLModel",
            "_view_count": null,
            "_view_module": "@jupyter-widgets/controls",
            "_view_module_version": "1.5.0",
            "_view_name": "HTMLView",
            "description": "",
            "description_tooltip": null,
            "layout": "IPY_MODEL_f2409e8ed1f34add951218b25ddf103e",
            "placeholder": "​",
            "style": "IPY_MODEL_60642eb44c1a48d499e99538d154bc45",
            "value": " 65.0/65.0 [00:00&lt;00:00, 1.09kB/s]"
          }
        },
        "d9b460917ccd4725b7243d84b1cec456": {
          "model_module": "@jupyter-widgets/base",
          "model_name": "LayoutModel",
          "model_module_version": "1.2.0",
          "state": {
            "_model_module": "@jupyter-widgets/base",
            "_model_module_version": "1.2.0",
            "_model_name": "LayoutModel",
            "_view_count": null,
            "_view_module": "@jupyter-widgets/base",
            "_view_module_version": "1.2.0",
            "_view_name": "LayoutView",
            "align_content": null,
            "align_items": null,
            "align_self": null,
            "border": null,
            "bottom": null,
            "display": null,
            "flex": null,
            "flex_flow": null,
            "grid_area": null,
            "grid_auto_columns": null,
            "grid_auto_flow": null,
            "grid_auto_rows": null,
            "grid_column": null,
            "grid_gap": null,
            "grid_row": null,
            "grid_template_areas": null,
            "grid_template_columns": null,
            "grid_template_rows": null,
            "height": null,
            "justify_content": null,
            "justify_items": null,
            "left": null,
            "margin": null,
            "max_height": null,
            "max_width": null,
            "min_height": null,
            "min_width": null,
            "object_fit": null,
            "object_position": null,
            "order": null,
            "overflow": null,
            "overflow_x": null,
            "overflow_y": null,
            "padding": null,
            "right": null,
            "top": null,
            "visibility": null,
            "width": null
          }
        },
        "b47f1d0c82694c1a9ba47be4e1d5cf1c": {
          "model_module": "@jupyter-widgets/base",
          "model_name": "LayoutModel",
          "model_module_version": "1.2.0",
          "state": {
            "_model_module": "@jupyter-widgets/base",
            "_model_module_version": "1.2.0",
            "_model_name": "LayoutModel",
            "_view_count": null,
            "_view_module": "@jupyter-widgets/base",
            "_view_module_version": "1.2.0",
            "_view_name": "LayoutView",
            "align_content": null,
            "align_items": null,
            "align_self": null,
            "border": null,
            "bottom": null,
            "display": null,
            "flex": null,
            "flex_flow": null,
            "grid_area": null,
            "grid_auto_columns": null,
            "grid_auto_flow": null,
            "grid_auto_rows": null,
            "grid_column": null,
            "grid_gap": null,
            "grid_row": null,
            "grid_template_areas": null,
            "grid_template_columns": null,
            "grid_template_rows": null,
            "height": null,
            "justify_content": null,
            "justify_items": null,
            "left": null,
            "margin": null,
            "max_height": null,
            "max_width": null,
            "min_height": null,
            "min_width": null,
            "object_fit": null,
            "object_position": null,
            "order": null,
            "overflow": null,
            "overflow_x": null,
            "overflow_y": null,
            "padding": null,
            "right": null,
            "top": null,
            "visibility": null,
            "width": null
          }
        },
        "228a2eebd2334d87aa332aab715fa67b": {
          "model_module": "@jupyter-widgets/controls",
          "model_name": "DescriptionStyleModel",
          "model_module_version": "1.5.0",
          "state": {
            "_model_module": "@jupyter-widgets/controls",
            "_model_module_version": "1.5.0",
            "_model_name": "DescriptionStyleModel",
            "_view_count": null,
            "_view_module": "@jupyter-widgets/base",
            "_view_module_version": "1.2.0",
            "_view_name": "StyleView",
            "description_width": ""
          }
        },
        "4ec33ca15c534e6f863d9118a65222db": {
          "model_module": "@jupyter-widgets/base",
          "model_name": "LayoutModel",
          "model_module_version": "1.2.0",
          "state": {
            "_model_module": "@jupyter-widgets/base",
            "_model_module_version": "1.2.0",
            "_model_name": "LayoutModel",
            "_view_count": null,
            "_view_module": "@jupyter-widgets/base",
            "_view_module_version": "1.2.0",
            "_view_name": "LayoutView",
            "align_content": null,
            "align_items": null,
            "align_self": null,
            "border": null,
            "bottom": null,
            "display": null,
            "flex": null,
            "flex_flow": null,
            "grid_area": null,
            "grid_auto_columns": null,
            "grid_auto_flow": null,
            "grid_auto_rows": null,
            "grid_column": null,
            "grid_gap": null,
            "grid_row": null,
            "grid_template_areas": null,
            "grid_template_columns": null,
            "grid_template_rows": null,
            "height": null,
            "justify_content": null,
            "justify_items": null,
            "left": null,
            "margin": null,
            "max_height": null,
            "max_width": null,
            "min_height": null,
            "min_width": null,
            "object_fit": null,
            "object_position": null,
            "order": null,
            "overflow": null,
            "overflow_x": null,
            "overflow_y": null,
            "padding": null,
            "right": null,
            "top": null,
            "visibility": null,
            "width": null
          }
        },
        "8dc24dfc523b4f078a7922dff3f09c76": {
          "model_module": "@jupyter-widgets/controls",
          "model_name": "ProgressStyleModel",
          "model_module_version": "1.5.0",
          "state": {
            "_model_module": "@jupyter-widgets/controls",
            "_model_module_version": "1.5.0",
            "_model_name": "ProgressStyleModel",
            "_view_count": null,
            "_view_module": "@jupyter-widgets/base",
            "_view_module_version": "1.2.0",
            "_view_name": "StyleView",
            "bar_color": null,
            "description_width": ""
          }
        },
        "f2409e8ed1f34add951218b25ddf103e": {
          "model_module": "@jupyter-widgets/base",
          "model_name": "LayoutModel",
          "model_module_version": "1.2.0",
          "state": {
            "_model_module": "@jupyter-widgets/base",
            "_model_module_version": "1.2.0",
            "_model_name": "LayoutModel",
            "_view_count": null,
            "_view_module": "@jupyter-widgets/base",
            "_view_module_version": "1.2.0",
            "_view_name": "LayoutView",
            "align_content": null,
            "align_items": null,
            "align_self": null,
            "border": null,
            "bottom": null,
            "display": null,
            "flex": null,
            "flex_flow": null,
            "grid_area": null,
            "grid_auto_columns": null,
            "grid_auto_flow": null,
            "grid_auto_rows": null,
            "grid_column": null,
            "grid_gap": null,
            "grid_row": null,
            "grid_template_areas": null,
            "grid_template_columns": null,
            "grid_template_rows": null,
            "height": null,
            "justify_content": null,
            "justify_items": null,
            "left": null,
            "margin": null,
            "max_height": null,
            "max_width": null,
            "min_height": null,
            "min_width": null,
            "object_fit": null,
            "object_position": null,
            "order": null,
            "overflow": null,
            "overflow_x": null,
            "overflow_y": null,
            "padding": null,
            "right": null,
            "top": null,
            "visibility": null,
            "width": null
          }
        },
        "60642eb44c1a48d499e99538d154bc45": {
          "model_module": "@jupyter-widgets/controls",
          "model_name": "DescriptionStyleModel",
          "model_module_version": "1.5.0",
          "state": {
            "_model_module": "@jupyter-widgets/controls",
            "_model_module_version": "1.5.0",
            "_model_name": "DescriptionStyleModel",
            "_view_count": null,
            "_view_module": "@jupyter-widgets/base",
            "_view_module_version": "1.2.0",
            "_view_name": "StyleView",
            "description_width": ""
          }
        },
        "8f6efb5c721b4a8ab88a823202792d06": {
          "model_module": "@jupyter-widgets/controls",
          "model_name": "HBoxModel",
          "model_module_version": "1.5.0",
          "state": {
            "_dom_classes": [],
            "_model_module": "@jupyter-widgets/controls",
            "_model_module_version": "1.5.0",
            "_model_name": "HBoxModel",
            "_view_count": null,
            "_view_module": "@jupyter-widgets/controls",
            "_view_module_version": "1.5.0",
            "_view_name": "HBoxView",
            "box_style": "",
            "children": [
              "IPY_MODEL_334847e4ca7f4297b10dc851bda21e2e",
              "IPY_MODEL_4e6c4ad808ed4a8399c5afd33195ea19",
              "IPY_MODEL_26d71d2c03e14792a79c9d1fac8c7744"
            ],
            "layout": "IPY_MODEL_feafbcd9bc3a445ea7d42602ee8f10a9"
          }
        },
        "334847e4ca7f4297b10dc851bda21e2e": {
          "model_module": "@jupyter-widgets/controls",
          "model_name": "HTMLModel",
          "model_module_version": "1.5.0",
          "state": {
            "_dom_classes": [],
            "_model_module": "@jupyter-widgets/controls",
            "_model_module_version": "1.5.0",
            "_model_name": "HTMLModel",
            "_view_count": null,
            "_view_module": "@jupyter-widgets/controls",
            "_view_module_version": "1.5.0",
            "_view_name": "HTMLView",
            "description": "",
            "description_tooltip": null,
            "layout": "IPY_MODEL_0b880af367de410895191d8c32ed6d8e",
            "placeholder": "​",
            "style": "IPY_MODEL_c1cb7fa53db8473abc512b6c900a9fe2",
            "value": "Downloading: 100%"
          }
        },
        "4e6c4ad808ed4a8399c5afd33195ea19": {
          "model_module": "@jupyter-widgets/controls",
          "model_name": "FloatProgressModel",
          "model_module_version": "1.5.0",
          "state": {
            "_dom_classes": [],
            "_model_module": "@jupyter-widgets/controls",
            "_model_module_version": "1.5.0",
            "_model_name": "FloatProgressModel",
            "_view_count": null,
            "_view_module": "@jupyter-widgets/controls",
            "_view_module_version": "1.5.0",
            "_view_name": "ProgressView",
            "bar_style": "success",
            "description": "",
            "description_tooltip": null,
            "layout": "IPY_MODEL_91cd308dc0214ba3bb2d08da2ce44404",
            "max": 88,
            "min": 0,
            "orientation": "horizontal",
            "style": "IPY_MODEL_77afde269d9a4c918f704de42875d4a9",
            "value": 88
          }
        },
        "26d71d2c03e14792a79c9d1fac8c7744": {
          "model_module": "@jupyter-widgets/controls",
          "model_name": "HTMLModel",
          "model_module_version": "1.5.0",
          "state": {
            "_dom_classes": [],
            "_model_module": "@jupyter-widgets/controls",
            "_model_module_version": "1.5.0",
            "_model_name": "HTMLModel",
            "_view_count": null,
            "_view_module": "@jupyter-widgets/controls",
            "_view_module_version": "1.5.0",
            "_view_name": "HTMLView",
            "description": "",
            "description_tooltip": null,
            "layout": "IPY_MODEL_c9a8917de7fc43b6abab91c3c6d1bb37",
            "placeholder": "​",
            "style": "IPY_MODEL_a0828c7c95364c27b569808bc0190304",
            "value": " 88.0/88.0 [00:00&lt;00:00, 1.30kB/s]"
          }
        },
        "feafbcd9bc3a445ea7d42602ee8f10a9": {
          "model_module": "@jupyter-widgets/base",
          "model_name": "LayoutModel",
          "model_module_version": "1.2.0",
          "state": {
            "_model_module": "@jupyter-widgets/base",
            "_model_module_version": "1.2.0",
            "_model_name": "LayoutModel",
            "_view_count": null,
            "_view_module": "@jupyter-widgets/base",
            "_view_module_version": "1.2.0",
            "_view_name": "LayoutView",
            "align_content": null,
            "align_items": null,
            "align_self": null,
            "border": null,
            "bottom": null,
            "display": null,
            "flex": null,
            "flex_flow": null,
            "grid_area": null,
            "grid_auto_columns": null,
            "grid_auto_flow": null,
            "grid_auto_rows": null,
            "grid_column": null,
            "grid_gap": null,
            "grid_row": null,
            "grid_template_areas": null,
            "grid_template_columns": null,
            "grid_template_rows": null,
            "height": null,
            "justify_content": null,
            "justify_items": null,
            "left": null,
            "margin": null,
            "max_height": null,
            "max_width": null,
            "min_height": null,
            "min_width": null,
            "object_fit": null,
            "object_position": null,
            "order": null,
            "overflow": null,
            "overflow_x": null,
            "overflow_y": null,
            "padding": null,
            "right": null,
            "top": null,
            "visibility": null,
            "width": null
          }
        },
        "0b880af367de410895191d8c32ed6d8e": {
          "model_module": "@jupyter-widgets/base",
          "model_name": "LayoutModel",
          "model_module_version": "1.2.0",
          "state": {
            "_model_module": "@jupyter-widgets/base",
            "_model_module_version": "1.2.0",
            "_model_name": "LayoutModel",
            "_view_count": null,
            "_view_module": "@jupyter-widgets/base",
            "_view_module_version": "1.2.0",
            "_view_name": "LayoutView",
            "align_content": null,
            "align_items": null,
            "align_self": null,
            "border": null,
            "bottom": null,
            "display": null,
            "flex": null,
            "flex_flow": null,
            "grid_area": null,
            "grid_auto_columns": null,
            "grid_auto_flow": null,
            "grid_auto_rows": null,
            "grid_column": null,
            "grid_gap": null,
            "grid_row": null,
            "grid_template_areas": null,
            "grid_template_columns": null,
            "grid_template_rows": null,
            "height": null,
            "justify_content": null,
            "justify_items": null,
            "left": null,
            "margin": null,
            "max_height": null,
            "max_width": null,
            "min_height": null,
            "min_width": null,
            "object_fit": null,
            "object_position": null,
            "order": null,
            "overflow": null,
            "overflow_x": null,
            "overflow_y": null,
            "padding": null,
            "right": null,
            "top": null,
            "visibility": null,
            "width": null
          }
        },
        "c1cb7fa53db8473abc512b6c900a9fe2": {
          "model_module": "@jupyter-widgets/controls",
          "model_name": "DescriptionStyleModel",
          "model_module_version": "1.5.0",
          "state": {
            "_model_module": "@jupyter-widgets/controls",
            "_model_module_version": "1.5.0",
            "_model_name": "DescriptionStyleModel",
            "_view_count": null,
            "_view_module": "@jupyter-widgets/base",
            "_view_module_version": "1.2.0",
            "_view_name": "StyleView",
            "description_width": ""
          }
        },
        "91cd308dc0214ba3bb2d08da2ce44404": {
          "model_module": "@jupyter-widgets/base",
          "model_name": "LayoutModel",
          "model_module_version": "1.2.0",
          "state": {
            "_model_module": "@jupyter-widgets/base",
            "_model_module_version": "1.2.0",
            "_model_name": "LayoutModel",
            "_view_count": null,
            "_view_module": "@jupyter-widgets/base",
            "_view_module_version": "1.2.0",
            "_view_name": "LayoutView",
            "align_content": null,
            "align_items": null,
            "align_self": null,
            "border": null,
            "bottom": null,
            "display": null,
            "flex": null,
            "flex_flow": null,
            "grid_area": null,
            "grid_auto_columns": null,
            "grid_auto_flow": null,
            "grid_auto_rows": null,
            "grid_column": null,
            "grid_gap": null,
            "grid_row": null,
            "grid_template_areas": null,
            "grid_template_columns": null,
            "grid_template_rows": null,
            "height": null,
            "justify_content": null,
            "justify_items": null,
            "left": null,
            "margin": null,
            "max_height": null,
            "max_width": null,
            "min_height": null,
            "min_width": null,
            "object_fit": null,
            "object_position": null,
            "order": null,
            "overflow": null,
            "overflow_x": null,
            "overflow_y": null,
            "padding": null,
            "right": null,
            "top": null,
            "visibility": null,
            "width": null
          }
        },
        "77afde269d9a4c918f704de42875d4a9": {
          "model_module": "@jupyter-widgets/controls",
          "model_name": "ProgressStyleModel",
          "model_module_version": "1.5.0",
          "state": {
            "_model_module": "@jupyter-widgets/controls",
            "_model_module_version": "1.5.0",
            "_model_name": "ProgressStyleModel",
            "_view_count": null,
            "_view_module": "@jupyter-widgets/base",
            "_view_module_version": "1.2.0",
            "_view_name": "StyleView",
            "bar_color": null,
            "description_width": ""
          }
        },
        "c9a8917de7fc43b6abab91c3c6d1bb37": {
          "model_module": "@jupyter-widgets/base",
          "model_name": "LayoutModel",
          "model_module_version": "1.2.0",
          "state": {
            "_model_module": "@jupyter-widgets/base",
            "_model_module_version": "1.2.0",
            "_model_name": "LayoutModel",
            "_view_count": null,
            "_view_module": "@jupyter-widgets/base",
            "_view_module_version": "1.2.0",
            "_view_name": "LayoutView",
            "align_content": null,
            "align_items": null,
            "align_self": null,
            "border": null,
            "bottom": null,
            "display": null,
            "flex": null,
            "flex_flow": null,
            "grid_area": null,
            "grid_auto_columns": null,
            "grid_auto_flow": null,
            "grid_auto_rows": null,
            "grid_column": null,
            "grid_gap": null,
            "grid_row": null,
            "grid_template_areas": null,
            "grid_template_columns": null,
            "grid_template_rows": null,
            "height": null,
            "justify_content": null,
            "justify_items": null,
            "left": null,
            "margin": null,
            "max_height": null,
            "max_width": null,
            "min_height": null,
            "min_width": null,
            "object_fit": null,
            "object_position": null,
            "order": null,
            "overflow": null,
            "overflow_x": null,
            "overflow_y": null,
            "padding": null,
            "right": null,
            "top": null,
            "visibility": null,
            "width": null
          }
        },
        "a0828c7c95364c27b569808bc0190304": {
          "model_module": "@jupyter-widgets/controls",
          "model_name": "DescriptionStyleModel",
          "model_module_version": "1.5.0",
          "state": {
            "_model_module": "@jupyter-widgets/controls",
            "_model_module_version": "1.5.0",
            "_model_name": "DescriptionStyleModel",
            "_view_count": null,
            "_view_module": "@jupyter-widgets/base",
            "_view_module_version": "1.2.0",
            "_view_name": "StyleView",
            "description_width": ""
          }
        },
        "bea4f22a72e341d69608b53f655c7de3": {
          "model_module": "@jupyter-widgets/controls",
          "model_name": "HBoxModel",
          "model_module_version": "1.5.0",
          "state": {
            "_dom_classes": [],
            "_model_module": "@jupyter-widgets/controls",
            "_model_module_version": "1.5.0",
            "_model_name": "HBoxModel",
            "_view_count": null,
            "_view_module": "@jupyter-widgets/controls",
            "_view_module_version": "1.5.0",
            "_view_name": "HBoxView",
            "box_style": "",
            "children": [
              "IPY_MODEL_bf5f3cefc99448a5a9a2a40298890d9f",
              "IPY_MODEL_548fc1c97b1042b88db2ff09deb9f456",
              "IPY_MODEL_78dbd7003d7040e5960014bcb2f68b7b"
            ],
            "layout": "IPY_MODEL_63fadf5cb96c44a38f00f638d5516f95"
          }
        },
        "bf5f3cefc99448a5a9a2a40298890d9f": {
          "model_module": "@jupyter-widgets/controls",
          "model_name": "HTMLModel",
          "model_module_version": "1.5.0",
          "state": {
            "_dom_classes": [],
            "_model_module": "@jupyter-widgets/controls",
            "_model_module_version": "1.5.0",
            "_model_name": "HTMLModel",
            "_view_count": null,
            "_view_module": "@jupyter-widgets/controls",
            "_view_module_version": "1.5.0",
            "_view_name": "HTMLView",
            "description": "",
            "description_tooltip": null,
            "layout": "IPY_MODEL_c87bc1830fbb4a63ab0e7ad4923225d6",
            "placeholder": "​",
            "style": "IPY_MODEL_98822772fa184542a1f8c909ed348f64",
            "value": "Downloading: 100%"
          }
        },
        "548fc1c97b1042b88db2ff09deb9f456": {
          "model_module": "@jupyter-widgets/controls",
          "model_name": "FloatProgressModel",
          "model_module_version": "1.5.0",
          "state": {
            "_dom_classes": [],
            "_model_module": "@jupyter-widgets/controls",
            "_model_module_version": "1.5.0",
            "_model_name": "FloatProgressModel",
            "_view_count": null,
            "_view_module": "@jupyter-widgets/controls",
            "_view_module_version": "1.5.0",
            "_view_name": "ProgressView",
            "bar_style": "success",
            "description": "",
            "description_tooltip": null,
            "layout": "IPY_MODEL_8e0fc1bff2074fdea19e6d744887ec33",
            "max": 1120,
            "min": 0,
            "orientation": "horizontal",
            "style": "IPY_MODEL_24c8295e53d34d7e8377e50c2ad3e39a",
            "value": 1120
          }
        },
        "78dbd7003d7040e5960014bcb2f68b7b": {
          "model_module": "@jupyter-widgets/controls",
          "model_name": "HTMLModel",
          "model_module_version": "1.5.0",
          "state": {
            "_dom_classes": [],
            "_model_module": "@jupyter-widgets/controls",
            "_model_module_version": "1.5.0",
            "_model_name": "HTMLModel",
            "_view_count": null,
            "_view_module": "@jupyter-widgets/controls",
            "_view_module_version": "1.5.0",
            "_view_name": "HTMLView",
            "description": "",
            "description_tooltip": null,
            "layout": "IPY_MODEL_2e214c966b24496e906d4b3a4632ff9e",
            "placeholder": "​",
            "style": "IPY_MODEL_22c8ec9b8ec9459ebefe520e434ebedc",
            "value": " 1.12k/1.12k [00:00&lt;00:00, 14.2kB/s]"
          }
        },
        "63fadf5cb96c44a38f00f638d5516f95": {
          "model_module": "@jupyter-widgets/base",
          "model_name": "LayoutModel",
          "model_module_version": "1.2.0",
          "state": {
            "_model_module": "@jupyter-widgets/base",
            "_model_module_version": "1.2.0",
            "_model_name": "LayoutModel",
            "_view_count": null,
            "_view_module": "@jupyter-widgets/base",
            "_view_module_version": "1.2.0",
            "_view_name": "LayoutView",
            "align_content": null,
            "align_items": null,
            "align_self": null,
            "border": null,
            "bottom": null,
            "display": null,
            "flex": null,
            "flex_flow": null,
            "grid_area": null,
            "grid_auto_columns": null,
            "grid_auto_flow": null,
            "grid_auto_rows": null,
            "grid_column": null,
            "grid_gap": null,
            "grid_row": null,
            "grid_template_areas": null,
            "grid_template_columns": null,
            "grid_template_rows": null,
            "height": null,
            "justify_content": null,
            "justify_items": null,
            "left": null,
            "margin": null,
            "max_height": null,
            "max_width": null,
            "min_height": null,
            "min_width": null,
            "object_fit": null,
            "object_position": null,
            "order": null,
            "overflow": null,
            "overflow_x": null,
            "overflow_y": null,
            "padding": null,
            "right": null,
            "top": null,
            "visibility": null,
            "width": null
          }
        },
        "c87bc1830fbb4a63ab0e7ad4923225d6": {
          "model_module": "@jupyter-widgets/base",
          "model_name": "LayoutModel",
          "model_module_version": "1.2.0",
          "state": {
            "_model_module": "@jupyter-widgets/base",
            "_model_module_version": "1.2.0",
            "_model_name": "LayoutModel",
            "_view_count": null,
            "_view_module": "@jupyter-widgets/base",
            "_view_module_version": "1.2.0",
            "_view_name": "LayoutView",
            "align_content": null,
            "align_items": null,
            "align_self": null,
            "border": null,
            "bottom": null,
            "display": null,
            "flex": null,
            "flex_flow": null,
            "grid_area": null,
            "grid_auto_columns": null,
            "grid_auto_flow": null,
            "grid_auto_rows": null,
            "grid_column": null,
            "grid_gap": null,
            "grid_row": null,
            "grid_template_areas": null,
            "grid_template_columns": null,
            "grid_template_rows": null,
            "height": null,
            "justify_content": null,
            "justify_items": null,
            "left": null,
            "margin": null,
            "max_height": null,
            "max_width": null,
            "min_height": null,
            "min_width": null,
            "object_fit": null,
            "object_position": null,
            "order": null,
            "overflow": null,
            "overflow_x": null,
            "overflow_y": null,
            "padding": null,
            "right": null,
            "top": null,
            "visibility": null,
            "width": null
          }
        },
        "98822772fa184542a1f8c909ed348f64": {
          "model_module": "@jupyter-widgets/controls",
          "model_name": "DescriptionStyleModel",
          "model_module_version": "1.5.0",
          "state": {
            "_model_module": "@jupyter-widgets/controls",
            "_model_module_version": "1.5.0",
            "_model_name": "DescriptionStyleModel",
            "_view_count": null,
            "_view_module": "@jupyter-widgets/base",
            "_view_module_version": "1.2.0",
            "_view_name": "StyleView",
            "description_width": ""
          }
        },
        "8e0fc1bff2074fdea19e6d744887ec33": {
          "model_module": "@jupyter-widgets/base",
          "model_name": "LayoutModel",
          "model_module_version": "1.2.0",
          "state": {
            "_model_module": "@jupyter-widgets/base",
            "_model_module_version": "1.2.0",
            "_model_name": "LayoutModel",
            "_view_count": null,
            "_view_module": "@jupyter-widgets/base",
            "_view_module_version": "1.2.0",
            "_view_name": "LayoutView",
            "align_content": null,
            "align_items": null,
            "align_self": null,
            "border": null,
            "bottom": null,
            "display": null,
            "flex": null,
            "flex_flow": null,
            "grid_area": null,
            "grid_auto_columns": null,
            "grid_auto_flow": null,
            "grid_auto_rows": null,
            "grid_column": null,
            "grid_gap": null,
            "grid_row": null,
            "grid_template_areas": null,
            "grid_template_columns": null,
            "grid_template_rows": null,
            "height": null,
            "justify_content": null,
            "justify_items": null,
            "left": null,
            "margin": null,
            "max_height": null,
            "max_width": null,
            "min_height": null,
            "min_width": null,
            "object_fit": null,
            "object_position": null,
            "order": null,
            "overflow": null,
            "overflow_x": null,
            "overflow_y": null,
            "padding": null,
            "right": null,
            "top": null,
            "visibility": null,
            "width": null
          }
        },
        "24c8295e53d34d7e8377e50c2ad3e39a": {
          "model_module": "@jupyter-widgets/controls",
          "model_name": "ProgressStyleModel",
          "model_module_version": "1.5.0",
          "state": {
            "_model_module": "@jupyter-widgets/controls",
            "_model_module_version": "1.5.0",
            "_model_name": "ProgressStyleModel",
            "_view_count": null,
            "_view_module": "@jupyter-widgets/base",
            "_view_module_version": "1.2.0",
            "_view_name": "StyleView",
            "bar_color": null,
            "description_width": ""
          }
        },
        "2e214c966b24496e906d4b3a4632ff9e": {
          "model_module": "@jupyter-widgets/base",
          "model_name": "LayoutModel",
          "model_module_version": "1.2.0",
          "state": {
            "_model_module": "@jupyter-widgets/base",
            "_model_module_version": "1.2.0",
            "_model_name": "LayoutModel",
            "_view_count": null,
            "_view_module": "@jupyter-widgets/base",
            "_view_module_version": "1.2.0",
            "_view_name": "LayoutView",
            "align_content": null,
            "align_items": null,
            "align_self": null,
            "border": null,
            "bottom": null,
            "display": null,
            "flex": null,
            "flex_flow": null,
            "grid_area": null,
            "grid_auto_columns": null,
            "grid_auto_flow": null,
            "grid_auto_rows": null,
            "grid_column": null,
            "grid_gap": null,
            "grid_row": null,
            "grid_template_areas": null,
            "grid_template_columns": null,
            "grid_template_rows": null,
            "height": null,
            "justify_content": null,
            "justify_items": null,
            "left": null,
            "margin": null,
            "max_height": null,
            "max_width": null,
            "min_height": null,
            "min_width": null,
            "object_fit": null,
            "object_position": null,
            "order": null,
            "overflow": null,
            "overflow_x": null,
            "overflow_y": null,
            "padding": null,
            "right": null,
            "top": null,
            "visibility": null,
            "width": null
          }
        },
        "22c8ec9b8ec9459ebefe520e434ebedc": {
          "model_module": "@jupyter-widgets/controls",
          "model_name": "DescriptionStyleModel",
          "model_module_version": "1.5.0",
          "state": {
            "_model_module": "@jupyter-widgets/controls",
            "_model_module_version": "1.5.0",
            "_model_name": "DescriptionStyleModel",
            "_view_count": null,
            "_view_module": "@jupyter-widgets/base",
            "_view_module_version": "1.2.0",
            "_view_name": "StyleView",
            "description_width": ""
          }
        },
        "eb227000ce174e07be1578d23eb05a0f": {
          "model_module": "@jupyter-widgets/controls",
          "model_name": "HBoxModel",
          "model_module_version": "1.5.0",
          "state": {
            "_dom_classes": [],
            "_model_module": "@jupyter-widgets/controls",
            "_model_module_version": "1.5.0",
            "_model_name": "HBoxModel",
            "_view_count": null,
            "_view_module": "@jupyter-widgets/controls",
            "_view_module_version": "1.5.0",
            "_view_name": "HBoxView",
            "box_style": "",
            "children": [
              "IPY_MODEL_daf933ef8a4642caa813264efdc139d6",
              "IPY_MODEL_44090826ae724dffafa3709429746b1c",
              "IPY_MODEL_74525e4f35a84e7fb883a61359844f82"
            ],
            "layout": "IPY_MODEL_124a2fa7a0a34d429a3f20922498cbfb"
          }
        },
        "daf933ef8a4642caa813264efdc139d6": {
          "model_module": "@jupyter-widgets/controls",
          "model_name": "HTMLModel",
          "model_module_version": "1.5.0",
          "state": {
            "_dom_classes": [],
            "_model_module": "@jupyter-widgets/controls",
            "_model_module_version": "1.5.0",
            "_model_name": "HTMLModel",
            "_view_count": null,
            "_view_module": "@jupyter-widgets/controls",
            "_view_module_version": "1.5.0",
            "_view_name": "HTMLView",
            "description": "",
            "description_tooltip": null,
            "layout": "IPY_MODEL_03a3cab1edd24693bb2f2210d8bdb757",
            "placeholder": "​",
            "style": "IPY_MODEL_8f09afe7c9a94d7c806b919dd648d2f5",
            "value": "Downloading: 100%"
          }
        },
        "44090826ae724dffafa3709429746b1c": {
          "model_module": "@jupyter-widgets/controls",
          "model_name": "FloatProgressModel",
          "model_module_version": "1.5.0",
          "state": {
            "_dom_classes": [],
            "_model_module": "@jupyter-widgets/controls",
            "_model_module_version": "1.5.0",
            "_model_name": "FloatProgressModel",
            "_view_count": null,
            "_view_module": "@jupyter-widgets/controls",
            "_view_module_version": "1.5.0",
            "_view_name": "ProgressView",
            "bar_style": "success",
            "description": "",
            "description_tooltip": null,
            "layout": "IPY_MODEL_36bbee1a49d44da6be42fe6f18aa6f16",
            "max": 2275327883,
            "min": 0,
            "orientation": "horizontal",
            "style": "IPY_MODEL_9c10683cd9ef4982be6a5352544b7cba",
            "value": 2275327883
          }
        },
        "74525e4f35a84e7fb883a61359844f82": {
          "model_module": "@jupyter-widgets/controls",
          "model_name": "HTMLModel",
          "model_module_version": "1.5.0",
          "state": {
            "_dom_classes": [],
            "_model_module": "@jupyter-widgets/controls",
            "_model_module_version": "1.5.0",
            "_model_name": "HTMLModel",
            "_view_count": null,
            "_view_module": "@jupyter-widgets/controls",
            "_view_module_version": "1.5.0",
            "_view_name": "HTMLView",
            "description": "",
            "description_tooltip": null,
            "layout": "IPY_MODEL_35e5088d542b48dabee2c1c953a618d2",
            "placeholder": "​",
            "style": "IPY_MODEL_bf06596005934fce8f7e0c7314d8271b",
            "value": " 2.28G/2.28G [01:15&lt;00:00, 45.6MB/s]"
          }
        },
        "124a2fa7a0a34d429a3f20922498cbfb": {
          "model_module": "@jupyter-widgets/base",
          "model_name": "LayoutModel",
          "model_module_version": "1.2.0",
          "state": {
            "_model_module": "@jupyter-widgets/base",
            "_model_module_version": "1.2.0",
            "_model_name": "LayoutModel",
            "_view_count": null,
            "_view_module": "@jupyter-widgets/base",
            "_view_module_version": "1.2.0",
            "_view_name": "LayoutView",
            "align_content": null,
            "align_items": null,
            "align_self": null,
            "border": null,
            "bottom": null,
            "display": null,
            "flex": null,
            "flex_flow": null,
            "grid_area": null,
            "grid_auto_columns": null,
            "grid_auto_flow": null,
            "grid_auto_rows": null,
            "grid_column": null,
            "grid_gap": null,
            "grid_row": null,
            "grid_template_areas": null,
            "grid_template_columns": null,
            "grid_template_rows": null,
            "height": null,
            "justify_content": null,
            "justify_items": null,
            "left": null,
            "margin": null,
            "max_height": null,
            "max_width": null,
            "min_height": null,
            "min_width": null,
            "object_fit": null,
            "object_position": null,
            "order": null,
            "overflow": null,
            "overflow_x": null,
            "overflow_y": null,
            "padding": null,
            "right": null,
            "top": null,
            "visibility": null,
            "width": null
          }
        },
        "03a3cab1edd24693bb2f2210d8bdb757": {
          "model_module": "@jupyter-widgets/base",
          "model_name": "LayoutModel",
          "model_module_version": "1.2.0",
          "state": {
            "_model_module": "@jupyter-widgets/base",
            "_model_module_version": "1.2.0",
            "_model_name": "LayoutModel",
            "_view_count": null,
            "_view_module": "@jupyter-widgets/base",
            "_view_module_version": "1.2.0",
            "_view_name": "LayoutView",
            "align_content": null,
            "align_items": null,
            "align_self": null,
            "border": null,
            "bottom": null,
            "display": null,
            "flex": null,
            "flex_flow": null,
            "grid_area": null,
            "grid_auto_columns": null,
            "grid_auto_flow": null,
            "grid_auto_rows": null,
            "grid_column": null,
            "grid_gap": null,
            "grid_row": null,
            "grid_template_areas": null,
            "grid_template_columns": null,
            "grid_template_rows": null,
            "height": null,
            "justify_content": null,
            "justify_items": null,
            "left": null,
            "margin": null,
            "max_height": null,
            "max_width": null,
            "min_height": null,
            "min_width": null,
            "object_fit": null,
            "object_position": null,
            "order": null,
            "overflow": null,
            "overflow_x": null,
            "overflow_y": null,
            "padding": null,
            "right": null,
            "top": null,
            "visibility": null,
            "width": null
          }
        },
        "8f09afe7c9a94d7c806b919dd648d2f5": {
          "model_module": "@jupyter-widgets/controls",
          "model_name": "DescriptionStyleModel",
          "model_module_version": "1.5.0",
          "state": {
            "_model_module": "@jupyter-widgets/controls",
            "_model_module_version": "1.5.0",
            "_model_name": "DescriptionStyleModel",
            "_view_count": null,
            "_view_module": "@jupyter-widgets/base",
            "_view_module_version": "1.2.0",
            "_view_name": "StyleView",
            "description_width": ""
          }
        },
        "36bbee1a49d44da6be42fe6f18aa6f16": {
          "model_module": "@jupyter-widgets/base",
          "model_name": "LayoutModel",
          "model_module_version": "1.2.0",
          "state": {
            "_model_module": "@jupyter-widgets/base",
            "_model_module_version": "1.2.0",
            "_model_name": "LayoutModel",
            "_view_count": null,
            "_view_module": "@jupyter-widgets/base",
            "_view_module_version": "1.2.0",
            "_view_name": "LayoutView",
            "align_content": null,
            "align_items": null,
            "align_self": null,
            "border": null,
            "bottom": null,
            "display": null,
            "flex": null,
            "flex_flow": null,
            "grid_area": null,
            "grid_auto_columns": null,
            "grid_auto_flow": null,
            "grid_auto_rows": null,
            "grid_column": null,
            "grid_gap": null,
            "grid_row": null,
            "grid_template_areas": null,
            "grid_template_columns": null,
            "grid_template_rows": null,
            "height": null,
            "justify_content": null,
            "justify_items": null,
            "left": null,
            "margin": null,
            "max_height": null,
            "max_width": null,
            "min_height": null,
            "min_width": null,
            "object_fit": null,
            "object_position": null,
            "order": null,
            "overflow": null,
            "overflow_x": null,
            "overflow_y": null,
            "padding": null,
            "right": null,
            "top": null,
            "visibility": null,
            "width": null
          }
        },
        "9c10683cd9ef4982be6a5352544b7cba": {
          "model_module": "@jupyter-widgets/controls",
          "model_name": "ProgressStyleModel",
          "model_module_version": "1.5.0",
          "state": {
            "_model_module": "@jupyter-widgets/controls",
            "_model_module_version": "1.5.0",
            "_model_name": "ProgressStyleModel",
            "_view_count": null,
            "_view_module": "@jupyter-widgets/base",
            "_view_module_version": "1.2.0",
            "_view_name": "StyleView",
            "bar_color": null,
            "description_width": ""
          }
        },
        "35e5088d542b48dabee2c1c953a618d2": {
          "model_module": "@jupyter-widgets/base",
          "model_name": "LayoutModel",
          "model_module_version": "1.2.0",
          "state": {
            "_model_module": "@jupyter-widgets/base",
            "_model_module_version": "1.2.0",
            "_model_name": "LayoutModel",
            "_view_count": null,
            "_view_module": "@jupyter-widgets/base",
            "_view_module_version": "1.2.0",
            "_view_name": "LayoutView",
            "align_content": null,
            "align_items": null,
            "align_self": null,
            "border": null,
            "bottom": null,
            "display": null,
            "flex": null,
            "flex_flow": null,
            "grid_area": null,
            "grid_auto_columns": null,
            "grid_auto_flow": null,
            "grid_auto_rows": null,
            "grid_column": null,
            "grid_gap": null,
            "grid_row": null,
            "grid_template_areas": null,
            "grid_template_columns": null,
            "grid_template_rows": null,
            "height": null,
            "justify_content": null,
            "justify_items": null,
            "left": null,
            "margin": null,
            "max_height": null,
            "max_width": null,
            "min_height": null,
            "min_width": null,
            "object_fit": null,
            "object_position": null,
            "order": null,
            "overflow": null,
            "overflow_x": null,
            "overflow_y": null,
            "padding": null,
            "right": null,
            "top": null,
            "visibility": null,
            "width": null
          }
        },
        "bf06596005934fce8f7e0c7314d8271b": {
          "model_module": "@jupyter-widgets/controls",
          "model_name": "DescriptionStyleModel",
          "model_module_version": "1.5.0",
          "state": {
            "_model_module": "@jupyter-widgets/controls",
            "_model_module_version": "1.5.0",
            "_model_name": "DescriptionStyleModel",
            "_view_count": null,
            "_view_module": "@jupyter-widgets/base",
            "_view_module_version": "1.2.0",
            "_view_name": "StyleView",
            "description_width": ""
          }
        }
      }
    }
  },
  "nbformat": 4,
  "nbformat_minor": 0
}